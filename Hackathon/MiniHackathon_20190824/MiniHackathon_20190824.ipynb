{
 "cells": [
  {
   "cell_type": "code",
   "execution_count": 1,
   "metadata": {},
   "outputs": [],
   "source": [
    "# Generic library\n",
    "import numpy as np\n",
    "import pandas as pd\n",
    "import matplotlib.pyplot as plt\n",
    "%matplotlib inline\n",
    "import seaborn as sns"
   ]
  },
  {
   "cell_type": "code",
   "execution_count": 31,
   "metadata": {},
   "outputs": [],
   "source": [
    "home_df=pd.read_csv(\"C:/Users/Nagi/Documents/Hackathon/MiniHackathon_20190824/innercity.csv\")"
   ]
  },
  {
   "cell_type": "code",
   "execution_count": 32,
   "metadata": {},
   "outputs": [
    {
     "data": {
      "text/html": [
       "<div>\n",
       "<style scoped>\n",
       "    .dataframe tbody tr th:only-of-type {\n",
       "        vertical-align: middle;\n",
       "    }\n",
       "\n",
       "    .dataframe tbody tr th {\n",
       "        vertical-align: top;\n",
       "    }\n",
       "\n",
       "    .dataframe thead th {\n",
       "        text-align: right;\n",
       "    }\n",
       "</style>\n",
       "<table border=\"1\" class=\"dataframe\">\n",
       "  <thead>\n",
       "    <tr style=\"text-align: right;\">\n",
       "      <th></th>\n",
       "      <th>cid</th>\n",
       "      <th>dayhours</th>\n",
       "      <th>price</th>\n",
       "      <th>room_bed</th>\n",
       "      <th>room_bath</th>\n",
       "      <th>living_measure</th>\n",
       "      <th>lot_measure</th>\n",
       "      <th>ceil</th>\n",
       "      <th>coast</th>\n",
       "      <th>sight</th>\n",
       "      <th>...</th>\n",
       "      <th>basement</th>\n",
       "      <th>yr_built</th>\n",
       "      <th>yr_renovated</th>\n",
       "      <th>zipcode</th>\n",
       "      <th>lat</th>\n",
       "      <th>long</th>\n",
       "      <th>living_measure15</th>\n",
       "      <th>lot_measure15</th>\n",
       "      <th>furnished</th>\n",
       "      <th>total_area</th>\n",
       "    </tr>\n",
       "  </thead>\n",
       "  <tbody>\n",
       "    <tr>\n",
       "      <th>0</th>\n",
       "      <td>3034200666</td>\n",
       "      <td>20141107T000000</td>\n",
       "      <td>808100</td>\n",
       "      <td>4</td>\n",
       "      <td>3.25</td>\n",
       "      <td>3020</td>\n",
       "      <td>13457</td>\n",
       "      <td>1.0</td>\n",
       "      <td>0</td>\n",
       "      <td>0</td>\n",
       "      <td>...</td>\n",
       "      <td>0</td>\n",
       "      <td>1956</td>\n",
       "      <td>0</td>\n",
       "      <td>98133</td>\n",
       "      <td>47.7174</td>\n",
       "      <td>-122.336</td>\n",
       "      <td>2120</td>\n",
       "      <td>7553</td>\n",
       "      <td>1</td>\n",
       "      <td>16477</td>\n",
       "    </tr>\n",
       "    <tr>\n",
       "      <th>1</th>\n",
       "      <td>8731981640</td>\n",
       "      <td>20141204T000000</td>\n",
       "      <td>277500</td>\n",
       "      <td>4</td>\n",
       "      <td>2.50</td>\n",
       "      <td>2550</td>\n",
       "      <td>7500</td>\n",
       "      <td>1.0</td>\n",
       "      <td>0</td>\n",
       "      <td>0</td>\n",
       "      <td>...</td>\n",
       "      <td>800</td>\n",
       "      <td>1976</td>\n",
       "      <td>0</td>\n",
       "      <td>98023</td>\n",
       "      <td>47.3165</td>\n",
       "      <td>-122.386</td>\n",
       "      <td>2260</td>\n",
       "      <td>8800</td>\n",
       "      <td>0</td>\n",
       "      <td>10050</td>\n",
       "    </tr>\n",
       "    <tr>\n",
       "      <th>2</th>\n",
       "      <td>5104530220</td>\n",
       "      <td>20150420T000000</td>\n",
       "      <td>404000</td>\n",
       "      <td>3</td>\n",
       "      <td>2.50</td>\n",
       "      <td>2370</td>\n",
       "      <td>4324</td>\n",
       "      <td>2.0</td>\n",
       "      <td>0</td>\n",
       "      <td>0</td>\n",
       "      <td>...</td>\n",
       "      <td>0</td>\n",
       "      <td>2006</td>\n",
       "      <td>0</td>\n",
       "      <td>98038</td>\n",
       "      <td>47.3515</td>\n",
       "      <td>-121.999</td>\n",
       "      <td>2370</td>\n",
       "      <td>4348</td>\n",
       "      <td>0</td>\n",
       "      <td>6694</td>\n",
       "    </tr>\n",
       "    <tr>\n",
       "      <th>3</th>\n",
       "      <td>6145600285</td>\n",
       "      <td>20140529T000000</td>\n",
       "      <td>300000</td>\n",
       "      <td>2</td>\n",
       "      <td>1.00</td>\n",
       "      <td>820</td>\n",
       "      <td>3844</td>\n",
       "      <td>1.0</td>\n",
       "      <td>0</td>\n",
       "      <td>0</td>\n",
       "      <td>...</td>\n",
       "      <td>0</td>\n",
       "      <td>1916</td>\n",
       "      <td>0</td>\n",
       "      <td>98133</td>\n",
       "      <td>47.7049</td>\n",
       "      <td>-122.349</td>\n",
       "      <td>1520</td>\n",
       "      <td>3844</td>\n",
       "      <td>0</td>\n",
       "      <td>4664</td>\n",
       "    </tr>\n",
       "    <tr>\n",
       "      <th>4</th>\n",
       "      <td>8924100111</td>\n",
       "      <td>20150424T000000</td>\n",
       "      <td>699000</td>\n",
       "      <td>2</td>\n",
       "      <td>1.50</td>\n",
       "      <td>1400</td>\n",
       "      <td>4050</td>\n",
       "      <td>1.0</td>\n",
       "      <td>0</td>\n",
       "      <td>0</td>\n",
       "      <td>...</td>\n",
       "      <td>0</td>\n",
       "      <td>1954</td>\n",
       "      <td>0</td>\n",
       "      <td>98115</td>\n",
       "      <td>47.6768</td>\n",
       "      <td>-122.269</td>\n",
       "      <td>1900</td>\n",
       "      <td>5940</td>\n",
       "      <td>0</td>\n",
       "      <td>5450</td>\n",
       "    </tr>\n",
       "  </tbody>\n",
       "</table>\n",
       "<p>5 rows × 23 columns</p>\n",
       "</div>"
      ],
      "text/plain": [
       "          cid         dayhours   price  room_bed  room_bath  living_measure  \\\n",
       "0  3034200666  20141107T000000  808100         4       3.25            3020   \n",
       "1  8731981640  20141204T000000  277500         4       2.50            2550   \n",
       "2  5104530220  20150420T000000  404000         3       2.50            2370   \n",
       "3  6145600285  20140529T000000  300000         2       1.00             820   \n",
       "4  8924100111  20150424T000000  699000         2       1.50            1400   \n",
       "\n",
       "   lot_measure  ceil  coast  sight  ...  basement  yr_built  yr_renovated  \\\n",
       "0        13457   1.0      0      0  ...         0      1956             0   \n",
       "1         7500   1.0      0      0  ...       800      1976             0   \n",
       "2         4324   2.0      0      0  ...         0      2006             0   \n",
       "3         3844   1.0      0      0  ...         0      1916             0   \n",
       "4         4050   1.0      0      0  ...         0      1954             0   \n",
       "\n",
       "   zipcode      lat     long  living_measure15  lot_measure15  furnished  \\\n",
       "0    98133  47.7174 -122.336              2120           7553          1   \n",
       "1    98023  47.3165 -122.386              2260           8800          0   \n",
       "2    98038  47.3515 -121.999              2370           4348          0   \n",
       "3    98133  47.7049 -122.349              1520           3844          0   \n",
       "4    98115  47.6768 -122.269              1900           5940          0   \n",
       "\n",
       "   total_area  \n",
       "0       16477  \n",
       "1       10050  \n",
       "2        6694  \n",
       "3        4664  \n",
       "4        5450  \n",
       "\n",
       "[5 rows x 23 columns]"
      ]
     },
     "execution_count": 32,
     "metadata": {},
     "output_type": "execute_result"
    }
   ],
   "source": [
    "home_df.head()"
   ]
  },
  {
   "cell_type": "code",
   "execution_count": 33,
   "metadata": {},
   "outputs": [
    {
     "data": {
      "text/plain": [
       "(21613, 23)"
      ]
     },
     "execution_count": 33,
     "metadata": {},
     "output_type": "execute_result"
    }
   ],
   "source": [
    "home_df.shape"
   ]
  },
  {
   "cell_type": "code",
   "execution_count": 34,
   "metadata": {},
   "outputs": [
    {
     "data": {
      "text/plain": [
       "cid                 0\n",
       "dayhours            0\n",
       "price               0\n",
       "room_bed            0\n",
       "room_bath           0\n",
       "living_measure      0\n",
       "lot_measure         0\n",
       "ceil                0\n",
       "coast               0\n",
       "sight               0\n",
       "condition           0\n",
       "quality             0\n",
       "ceil_measure        0\n",
       "basement            0\n",
       "yr_built            0\n",
       "yr_renovated        0\n",
       "zipcode             0\n",
       "lat                 0\n",
       "long                0\n",
       "living_measure15    0\n",
       "lot_measure15       0\n",
       "furnished           0\n",
       "total_area          0\n",
       "dtype: int64"
      ]
     },
     "execution_count": 34,
     "metadata": {},
     "output_type": "execute_result"
    }
   ],
   "source": [
    "home_df.isna().sum()"
   ]
  },
  {
   "cell_type": "code",
   "execution_count": 8,
   "metadata": {},
   "outputs": [
    {
     "data": {
      "text/plain": [
       "0"
      ]
     },
     "execution_count": 8,
     "metadata": {},
     "output_type": "execute_result"
    }
   ],
   "source": [
    "home_df.duplicated().sum()"
   ]
  },
  {
   "cell_type": "code",
   "execution_count": 35,
   "metadata": {},
   "outputs": [
    {
     "data": {
      "text/plain": [
       "cid                   int64\n",
       "dayhours             object\n",
       "price                 int64\n",
       "room_bed              int64\n",
       "room_bath           float64\n",
       "living_measure        int64\n",
       "lot_measure           int64\n",
       "ceil                float64\n",
       "coast                 int64\n",
       "sight                 int64\n",
       "condition             int64\n",
       "quality               int64\n",
       "ceil_measure          int64\n",
       "basement              int64\n",
       "yr_built              int64\n",
       "yr_renovated          int64\n",
       "zipcode               int64\n",
       "lat                 float64\n",
       "long                float64\n",
       "living_measure15      int64\n",
       "lot_measure15         int64\n",
       "furnished             int64\n",
       "total_area            int64\n",
       "dtype: object"
      ]
     },
     "execution_count": 35,
     "metadata": {},
     "output_type": "execute_result"
    }
   ],
   "source": [
    "home_df.dtypes"
   ]
  },
  {
   "cell_type": "code",
   "execution_count": 10,
   "metadata": {},
   "outputs": [
    {
     "data": {
      "text/html": [
       "<div>\n",
       "<style scoped>\n",
       "    .dataframe tbody tr th:only-of-type {\n",
       "        vertical-align: middle;\n",
       "    }\n",
       "\n",
       "    .dataframe tbody tr th {\n",
       "        vertical-align: top;\n",
       "    }\n",
       "\n",
       "    .dataframe thead th {\n",
       "        text-align: right;\n",
       "    }\n",
       "</style>\n",
       "<table border=\"1\" class=\"dataframe\">\n",
       "  <thead>\n",
       "    <tr style=\"text-align: right;\">\n",
       "      <th></th>\n",
       "      <th>count</th>\n",
       "      <th>mean</th>\n",
       "      <th>std</th>\n",
       "      <th>min</th>\n",
       "      <th>25%</th>\n",
       "      <th>50%</th>\n",
       "      <th>75%</th>\n",
       "      <th>max</th>\n",
       "    </tr>\n",
       "  </thead>\n",
       "  <tbody>\n",
       "    <tr>\n",
       "      <th>cid</th>\n",
       "      <td>21613.0</td>\n",
       "      <td>4.580302e+09</td>\n",
       "      <td>2.876566e+09</td>\n",
       "      <td>1.000102e+06</td>\n",
       "      <td>2.123049e+09</td>\n",
       "      <td>3.904930e+09</td>\n",
       "      <td>7.308900e+09</td>\n",
       "      <td>9.900000e+09</td>\n",
       "    </tr>\n",
       "    <tr>\n",
       "      <th>price</th>\n",
       "      <td>21613.0</td>\n",
       "      <td>5.401822e+05</td>\n",
       "      <td>3.673622e+05</td>\n",
       "      <td>7.500000e+04</td>\n",
       "      <td>3.219500e+05</td>\n",
       "      <td>4.500000e+05</td>\n",
       "      <td>6.450000e+05</td>\n",
       "      <td>7.700000e+06</td>\n",
       "    </tr>\n",
       "    <tr>\n",
       "      <th>room_bed</th>\n",
       "      <td>21613.0</td>\n",
       "      <td>3.370842e+00</td>\n",
       "      <td>9.300618e-01</td>\n",
       "      <td>0.000000e+00</td>\n",
       "      <td>3.000000e+00</td>\n",
       "      <td>3.000000e+00</td>\n",
       "      <td>4.000000e+00</td>\n",
       "      <td>3.300000e+01</td>\n",
       "    </tr>\n",
       "    <tr>\n",
       "      <th>room_bath</th>\n",
       "      <td>21613.0</td>\n",
       "      <td>2.114757e+00</td>\n",
       "      <td>7.701632e-01</td>\n",
       "      <td>0.000000e+00</td>\n",
       "      <td>1.750000e+00</td>\n",
       "      <td>2.250000e+00</td>\n",
       "      <td>2.500000e+00</td>\n",
       "      <td>8.000000e+00</td>\n",
       "    </tr>\n",
       "    <tr>\n",
       "      <th>living_measure</th>\n",
       "      <td>21613.0</td>\n",
       "      <td>2.079900e+03</td>\n",
       "      <td>9.184409e+02</td>\n",
       "      <td>2.900000e+02</td>\n",
       "      <td>1.427000e+03</td>\n",
       "      <td>1.910000e+03</td>\n",
       "      <td>2.550000e+03</td>\n",
       "      <td>1.354000e+04</td>\n",
       "    </tr>\n",
       "    <tr>\n",
       "      <th>lot_measure</th>\n",
       "      <td>21613.0</td>\n",
       "      <td>1.510697e+04</td>\n",
       "      <td>4.142051e+04</td>\n",
       "      <td>5.200000e+02</td>\n",
       "      <td>5.040000e+03</td>\n",
       "      <td>7.618000e+03</td>\n",
       "      <td>1.068800e+04</td>\n",
       "      <td>1.651359e+06</td>\n",
       "    </tr>\n",
       "    <tr>\n",
       "      <th>ceil</th>\n",
       "      <td>21613.0</td>\n",
       "      <td>1.494309e+00</td>\n",
       "      <td>5.399889e-01</td>\n",
       "      <td>1.000000e+00</td>\n",
       "      <td>1.000000e+00</td>\n",
       "      <td>1.500000e+00</td>\n",
       "      <td>2.000000e+00</td>\n",
       "      <td>3.500000e+00</td>\n",
       "    </tr>\n",
       "    <tr>\n",
       "      <th>coast</th>\n",
       "      <td>21613.0</td>\n",
       "      <td>7.541757e-03</td>\n",
       "      <td>8.651720e-02</td>\n",
       "      <td>0.000000e+00</td>\n",
       "      <td>0.000000e+00</td>\n",
       "      <td>0.000000e+00</td>\n",
       "      <td>0.000000e+00</td>\n",
       "      <td>1.000000e+00</td>\n",
       "    </tr>\n",
       "    <tr>\n",
       "      <th>sight</th>\n",
       "      <td>21613.0</td>\n",
       "      <td>2.343034e-01</td>\n",
       "      <td>7.663176e-01</td>\n",
       "      <td>0.000000e+00</td>\n",
       "      <td>0.000000e+00</td>\n",
       "      <td>0.000000e+00</td>\n",
       "      <td>0.000000e+00</td>\n",
       "      <td>4.000000e+00</td>\n",
       "    </tr>\n",
       "    <tr>\n",
       "      <th>condition</th>\n",
       "      <td>21613.0</td>\n",
       "      <td>3.409430e+00</td>\n",
       "      <td>6.507430e-01</td>\n",
       "      <td>1.000000e+00</td>\n",
       "      <td>3.000000e+00</td>\n",
       "      <td>3.000000e+00</td>\n",
       "      <td>4.000000e+00</td>\n",
       "      <td>5.000000e+00</td>\n",
       "    </tr>\n",
       "    <tr>\n",
       "      <th>quality</th>\n",
       "      <td>21613.0</td>\n",
       "      <td>7.656873e+00</td>\n",
       "      <td>1.175459e+00</td>\n",
       "      <td>1.000000e+00</td>\n",
       "      <td>7.000000e+00</td>\n",
       "      <td>7.000000e+00</td>\n",
       "      <td>8.000000e+00</td>\n",
       "      <td>1.300000e+01</td>\n",
       "    </tr>\n",
       "    <tr>\n",
       "      <th>ceil_measure</th>\n",
       "      <td>21613.0</td>\n",
       "      <td>1.788391e+03</td>\n",
       "      <td>8.280910e+02</td>\n",
       "      <td>2.900000e+02</td>\n",
       "      <td>1.190000e+03</td>\n",
       "      <td>1.560000e+03</td>\n",
       "      <td>2.210000e+03</td>\n",
       "      <td>9.410000e+03</td>\n",
       "    </tr>\n",
       "    <tr>\n",
       "      <th>basement</th>\n",
       "      <td>21613.0</td>\n",
       "      <td>2.915090e+02</td>\n",
       "      <td>4.425750e+02</td>\n",
       "      <td>0.000000e+00</td>\n",
       "      <td>0.000000e+00</td>\n",
       "      <td>0.000000e+00</td>\n",
       "      <td>5.600000e+02</td>\n",
       "      <td>4.820000e+03</td>\n",
       "    </tr>\n",
       "    <tr>\n",
       "      <th>yr_built</th>\n",
       "      <td>21613.0</td>\n",
       "      <td>1.971005e+03</td>\n",
       "      <td>2.937341e+01</td>\n",
       "      <td>1.900000e+03</td>\n",
       "      <td>1.951000e+03</td>\n",
       "      <td>1.975000e+03</td>\n",
       "      <td>1.997000e+03</td>\n",
       "      <td>2.015000e+03</td>\n",
       "    </tr>\n",
       "    <tr>\n",
       "      <th>yr_renovated</th>\n",
       "      <td>21613.0</td>\n",
       "      <td>8.440226e+01</td>\n",
       "      <td>4.016792e+02</td>\n",
       "      <td>0.000000e+00</td>\n",
       "      <td>0.000000e+00</td>\n",
       "      <td>0.000000e+00</td>\n",
       "      <td>0.000000e+00</td>\n",
       "      <td>2.015000e+03</td>\n",
       "    </tr>\n",
       "    <tr>\n",
       "      <th>zipcode</th>\n",
       "      <td>21613.0</td>\n",
       "      <td>9.807794e+04</td>\n",
       "      <td>5.350503e+01</td>\n",
       "      <td>9.800100e+04</td>\n",
       "      <td>9.803300e+04</td>\n",
       "      <td>9.806500e+04</td>\n",
       "      <td>9.811800e+04</td>\n",
       "      <td>9.819900e+04</td>\n",
       "    </tr>\n",
       "    <tr>\n",
       "      <th>lat</th>\n",
       "      <td>21613.0</td>\n",
       "      <td>4.756005e+01</td>\n",
       "      <td>1.385637e-01</td>\n",
       "      <td>4.715590e+01</td>\n",
       "      <td>4.747100e+01</td>\n",
       "      <td>4.757180e+01</td>\n",
       "      <td>4.767800e+01</td>\n",
       "      <td>4.777760e+01</td>\n",
       "    </tr>\n",
       "    <tr>\n",
       "      <th>long</th>\n",
       "      <td>21613.0</td>\n",
       "      <td>-1.222139e+02</td>\n",
       "      <td>1.408283e-01</td>\n",
       "      <td>-1.225190e+02</td>\n",
       "      <td>-1.223280e+02</td>\n",
       "      <td>-1.222300e+02</td>\n",
       "      <td>-1.221250e+02</td>\n",
       "      <td>-1.213150e+02</td>\n",
       "    </tr>\n",
       "    <tr>\n",
       "      <th>living_measure15</th>\n",
       "      <td>21613.0</td>\n",
       "      <td>1.986552e+03</td>\n",
       "      <td>6.853913e+02</td>\n",
       "      <td>3.990000e+02</td>\n",
       "      <td>1.490000e+03</td>\n",
       "      <td>1.840000e+03</td>\n",
       "      <td>2.360000e+03</td>\n",
       "      <td>6.210000e+03</td>\n",
       "    </tr>\n",
       "    <tr>\n",
       "      <th>lot_measure15</th>\n",
       "      <td>21613.0</td>\n",
       "      <td>1.276846e+04</td>\n",
       "      <td>2.730418e+04</td>\n",
       "      <td>6.510000e+02</td>\n",
       "      <td>5.100000e+03</td>\n",
       "      <td>7.620000e+03</td>\n",
       "      <td>1.008300e+04</td>\n",
       "      <td>8.712000e+05</td>\n",
       "    </tr>\n",
       "    <tr>\n",
       "      <th>furnished</th>\n",
       "      <td>21613.0</td>\n",
       "      <td>1.966872e-01</td>\n",
       "      <td>3.975030e-01</td>\n",
       "      <td>0.000000e+00</td>\n",
       "      <td>0.000000e+00</td>\n",
       "      <td>0.000000e+00</td>\n",
       "      <td>0.000000e+00</td>\n",
       "      <td>1.000000e+00</td>\n",
       "    </tr>\n",
       "    <tr>\n",
       "      <th>total_area</th>\n",
       "      <td>21613.0</td>\n",
       "      <td>1.718687e+04</td>\n",
       "      <td>4.158908e+04</td>\n",
       "      <td>1.423000e+03</td>\n",
       "      <td>7.035000e+03</td>\n",
       "      <td>9.575000e+03</td>\n",
       "      <td>1.300000e+04</td>\n",
       "      <td>1.652659e+06</td>\n",
       "    </tr>\n",
       "  </tbody>\n",
       "</table>\n",
       "</div>"
      ],
      "text/plain": [
       "                    count          mean           std           min  \\\n",
       "cid               21613.0  4.580302e+09  2.876566e+09  1.000102e+06   \n",
       "price             21613.0  5.401822e+05  3.673622e+05  7.500000e+04   \n",
       "room_bed          21613.0  3.370842e+00  9.300618e-01  0.000000e+00   \n",
       "room_bath         21613.0  2.114757e+00  7.701632e-01  0.000000e+00   \n",
       "living_measure    21613.0  2.079900e+03  9.184409e+02  2.900000e+02   \n",
       "lot_measure       21613.0  1.510697e+04  4.142051e+04  5.200000e+02   \n",
       "ceil              21613.0  1.494309e+00  5.399889e-01  1.000000e+00   \n",
       "coast             21613.0  7.541757e-03  8.651720e-02  0.000000e+00   \n",
       "sight             21613.0  2.343034e-01  7.663176e-01  0.000000e+00   \n",
       "condition         21613.0  3.409430e+00  6.507430e-01  1.000000e+00   \n",
       "quality           21613.0  7.656873e+00  1.175459e+00  1.000000e+00   \n",
       "ceil_measure      21613.0  1.788391e+03  8.280910e+02  2.900000e+02   \n",
       "basement          21613.0  2.915090e+02  4.425750e+02  0.000000e+00   \n",
       "yr_built          21613.0  1.971005e+03  2.937341e+01  1.900000e+03   \n",
       "yr_renovated      21613.0  8.440226e+01  4.016792e+02  0.000000e+00   \n",
       "zipcode           21613.0  9.807794e+04  5.350503e+01  9.800100e+04   \n",
       "lat               21613.0  4.756005e+01  1.385637e-01  4.715590e+01   \n",
       "long              21613.0 -1.222139e+02  1.408283e-01 -1.225190e+02   \n",
       "living_measure15  21613.0  1.986552e+03  6.853913e+02  3.990000e+02   \n",
       "lot_measure15     21613.0  1.276846e+04  2.730418e+04  6.510000e+02   \n",
       "furnished         21613.0  1.966872e-01  3.975030e-01  0.000000e+00   \n",
       "total_area        21613.0  1.718687e+04  4.158908e+04  1.423000e+03   \n",
       "\n",
       "                           25%           50%           75%           max  \n",
       "cid               2.123049e+09  3.904930e+09  7.308900e+09  9.900000e+09  \n",
       "price             3.219500e+05  4.500000e+05  6.450000e+05  7.700000e+06  \n",
       "room_bed          3.000000e+00  3.000000e+00  4.000000e+00  3.300000e+01  \n",
       "room_bath         1.750000e+00  2.250000e+00  2.500000e+00  8.000000e+00  \n",
       "living_measure    1.427000e+03  1.910000e+03  2.550000e+03  1.354000e+04  \n",
       "lot_measure       5.040000e+03  7.618000e+03  1.068800e+04  1.651359e+06  \n",
       "ceil              1.000000e+00  1.500000e+00  2.000000e+00  3.500000e+00  \n",
       "coast             0.000000e+00  0.000000e+00  0.000000e+00  1.000000e+00  \n",
       "sight             0.000000e+00  0.000000e+00  0.000000e+00  4.000000e+00  \n",
       "condition         3.000000e+00  3.000000e+00  4.000000e+00  5.000000e+00  \n",
       "quality           7.000000e+00  7.000000e+00  8.000000e+00  1.300000e+01  \n",
       "ceil_measure      1.190000e+03  1.560000e+03  2.210000e+03  9.410000e+03  \n",
       "basement          0.000000e+00  0.000000e+00  5.600000e+02  4.820000e+03  \n",
       "yr_built          1.951000e+03  1.975000e+03  1.997000e+03  2.015000e+03  \n",
       "yr_renovated      0.000000e+00  0.000000e+00  0.000000e+00  2.015000e+03  \n",
       "zipcode           9.803300e+04  9.806500e+04  9.811800e+04  9.819900e+04  \n",
       "lat               4.747100e+01  4.757180e+01  4.767800e+01  4.777760e+01  \n",
       "long             -1.223280e+02 -1.222300e+02 -1.221250e+02 -1.213150e+02  \n",
       "living_measure15  1.490000e+03  1.840000e+03  2.360000e+03  6.210000e+03  \n",
       "lot_measure15     5.100000e+03  7.620000e+03  1.008300e+04  8.712000e+05  \n",
       "furnished         0.000000e+00  0.000000e+00  0.000000e+00  1.000000e+00  \n",
       "total_area        7.035000e+03  9.575000e+03  1.300000e+04  1.652659e+06  "
      ]
     },
     "execution_count": 10,
     "metadata": {},
     "output_type": "execute_result"
    }
   ],
   "source": [
    "home_df.describe().transpose()"
   ]
  },
  {
   "cell_type": "code",
   "execution_count": 12,
   "metadata": {},
   "outputs": [
    {
     "data": {
      "text/plain": [
       "Index(['cid', 'dayhours', 'price', 'room_bed', 'room_bath', 'living_measure',\n",
       "       'lot_measure', 'ceil', 'coast', 'sight', 'condition', 'quality',\n",
       "       'ceil_measure', 'basement', 'yr_built', 'yr_renovated', 'zipcode',\n",
       "       'lat', 'long', 'living_measure15', 'lot_measure15', 'furnished',\n",
       "       'total_area'],\n",
       "      dtype='object')"
      ]
     },
     "execution_count": 12,
     "metadata": {},
     "output_type": "execute_result"
    }
   ],
   "source": [
    "home_df.columns"
   ]
  },
  {
   "cell_type": "code",
   "execution_count": 18,
   "metadata": {},
   "outputs": [
    {
     "data": {
      "text/plain": [
       "2006"
      ]
     },
     "execution_count": 18,
     "metadata": {},
     "output_type": "execute_result"
    }
   ],
   "source": [
    "home_df.iloc[2,14]"
   ]
  },
  {
   "cell_type": "code",
   "execution_count": 37,
   "metadata": {},
   "outputs": [],
   "source": [
    "for i in range (0,21612):\n",
    "    year = home_df.iloc[i,14]\n",
    "    age_of_home = 2019 - year\n",
    "    home_df.iloc[i,14] = age_of_home\n",
    "    "
   ]
  },
  {
   "cell_type": "code",
   "execution_count": 38,
   "metadata": {},
   "outputs": [
    {
     "data": {
      "text/html": [
       "<div>\n",
       "<style scoped>\n",
       "    .dataframe tbody tr th:only-of-type {\n",
       "        vertical-align: middle;\n",
       "    }\n",
       "\n",
       "    .dataframe tbody tr th {\n",
       "        vertical-align: top;\n",
       "    }\n",
       "\n",
       "    .dataframe thead th {\n",
       "        text-align: right;\n",
       "    }\n",
       "</style>\n",
       "<table border=\"1\" class=\"dataframe\">\n",
       "  <thead>\n",
       "    <tr style=\"text-align: right;\">\n",
       "      <th></th>\n",
       "      <th>cid</th>\n",
       "      <th>dayhours</th>\n",
       "      <th>price</th>\n",
       "      <th>room_bed</th>\n",
       "      <th>room_bath</th>\n",
       "      <th>living_measure</th>\n",
       "      <th>lot_measure</th>\n",
       "      <th>ceil</th>\n",
       "      <th>coast</th>\n",
       "      <th>sight</th>\n",
       "      <th>...</th>\n",
       "      <th>basement</th>\n",
       "      <th>yr_built</th>\n",
       "      <th>yr_renovated</th>\n",
       "      <th>zipcode</th>\n",
       "      <th>lat</th>\n",
       "      <th>long</th>\n",
       "      <th>living_measure15</th>\n",
       "      <th>lot_measure15</th>\n",
       "      <th>furnished</th>\n",
       "      <th>total_area</th>\n",
       "    </tr>\n",
       "  </thead>\n",
       "  <tbody>\n",
       "    <tr>\n",
       "      <th>0</th>\n",
       "      <td>3034200666</td>\n",
       "      <td>20141107T000000</td>\n",
       "      <td>808100</td>\n",
       "      <td>4</td>\n",
       "      <td>3.25</td>\n",
       "      <td>3020</td>\n",
       "      <td>13457</td>\n",
       "      <td>1.0</td>\n",
       "      <td>0</td>\n",
       "      <td>0</td>\n",
       "      <td>...</td>\n",
       "      <td>0</td>\n",
       "      <td>63</td>\n",
       "      <td>0</td>\n",
       "      <td>98133</td>\n",
       "      <td>47.7174</td>\n",
       "      <td>-122.336</td>\n",
       "      <td>2120</td>\n",
       "      <td>7553</td>\n",
       "      <td>1</td>\n",
       "      <td>16477</td>\n",
       "    </tr>\n",
       "    <tr>\n",
       "      <th>1</th>\n",
       "      <td>8731981640</td>\n",
       "      <td>20141204T000000</td>\n",
       "      <td>277500</td>\n",
       "      <td>4</td>\n",
       "      <td>2.50</td>\n",
       "      <td>2550</td>\n",
       "      <td>7500</td>\n",
       "      <td>1.0</td>\n",
       "      <td>0</td>\n",
       "      <td>0</td>\n",
       "      <td>...</td>\n",
       "      <td>800</td>\n",
       "      <td>43</td>\n",
       "      <td>0</td>\n",
       "      <td>98023</td>\n",
       "      <td>47.3165</td>\n",
       "      <td>-122.386</td>\n",
       "      <td>2260</td>\n",
       "      <td>8800</td>\n",
       "      <td>0</td>\n",
       "      <td>10050</td>\n",
       "    </tr>\n",
       "    <tr>\n",
       "      <th>2</th>\n",
       "      <td>5104530220</td>\n",
       "      <td>20150420T000000</td>\n",
       "      <td>404000</td>\n",
       "      <td>3</td>\n",
       "      <td>2.50</td>\n",
       "      <td>2370</td>\n",
       "      <td>4324</td>\n",
       "      <td>2.0</td>\n",
       "      <td>0</td>\n",
       "      <td>0</td>\n",
       "      <td>...</td>\n",
       "      <td>0</td>\n",
       "      <td>13</td>\n",
       "      <td>0</td>\n",
       "      <td>98038</td>\n",
       "      <td>47.3515</td>\n",
       "      <td>-121.999</td>\n",
       "      <td>2370</td>\n",
       "      <td>4348</td>\n",
       "      <td>0</td>\n",
       "      <td>6694</td>\n",
       "    </tr>\n",
       "    <tr>\n",
       "      <th>3</th>\n",
       "      <td>6145600285</td>\n",
       "      <td>20140529T000000</td>\n",
       "      <td>300000</td>\n",
       "      <td>2</td>\n",
       "      <td>1.00</td>\n",
       "      <td>820</td>\n",
       "      <td>3844</td>\n",
       "      <td>1.0</td>\n",
       "      <td>0</td>\n",
       "      <td>0</td>\n",
       "      <td>...</td>\n",
       "      <td>0</td>\n",
       "      <td>103</td>\n",
       "      <td>0</td>\n",
       "      <td>98133</td>\n",
       "      <td>47.7049</td>\n",
       "      <td>-122.349</td>\n",
       "      <td>1520</td>\n",
       "      <td>3844</td>\n",
       "      <td>0</td>\n",
       "      <td>4664</td>\n",
       "    </tr>\n",
       "    <tr>\n",
       "      <th>4</th>\n",
       "      <td>8924100111</td>\n",
       "      <td>20150424T000000</td>\n",
       "      <td>699000</td>\n",
       "      <td>2</td>\n",
       "      <td>1.50</td>\n",
       "      <td>1400</td>\n",
       "      <td>4050</td>\n",
       "      <td>1.0</td>\n",
       "      <td>0</td>\n",
       "      <td>0</td>\n",
       "      <td>...</td>\n",
       "      <td>0</td>\n",
       "      <td>65</td>\n",
       "      <td>0</td>\n",
       "      <td>98115</td>\n",
       "      <td>47.6768</td>\n",
       "      <td>-122.269</td>\n",
       "      <td>1900</td>\n",
       "      <td>5940</td>\n",
       "      <td>0</td>\n",
       "      <td>5450</td>\n",
       "    </tr>\n",
       "  </tbody>\n",
       "</table>\n",
       "<p>5 rows × 23 columns</p>\n",
       "</div>"
      ],
      "text/plain": [
       "          cid         dayhours   price  room_bed  room_bath  living_measure  \\\n",
       "0  3034200666  20141107T000000  808100         4       3.25            3020   \n",
       "1  8731981640  20141204T000000  277500         4       2.50            2550   \n",
       "2  5104530220  20150420T000000  404000         3       2.50            2370   \n",
       "3  6145600285  20140529T000000  300000         2       1.00             820   \n",
       "4  8924100111  20150424T000000  699000         2       1.50            1400   \n",
       "\n",
       "   lot_measure  ceil  coast  sight  ...  basement  yr_built  yr_renovated  \\\n",
       "0        13457   1.0      0      0  ...         0        63             0   \n",
       "1         7500   1.0      0      0  ...       800        43             0   \n",
       "2         4324   2.0      0      0  ...         0        13             0   \n",
       "3         3844   1.0      0      0  ...         0       103             0   \n",
       "4         4050   1.0      0      0  ...         0        65             0   \n",
       "\n",
       "   zipcode      lat     long  living_measure15  lot_measure15  furnished  \\\n",
       "0    98133  47.7174 -122.336              2120           7553          1   \n",
       "1    98023  47.3165 -122.386              2260           8800          0   \n",
       "2    98038  47.3515 -121.999              2370           4348          0   \n",
       "3    98133  47.7049 -122.349              1520           3844          0   \n",
       "4    98115  47.6768 -122.269              1900           5940          0   \n",
       "\n",
       "   total_area  \n",
       "0       16477  \n",
       "1       10050  \n",
       "2        6694  \n",
       "3        4664  \n",
       "4        5450  \n",
       "\n",
       "[5 rows x 23 columns]"
      ]
     },
     "execution_count": 38,
     "metadata": {},
     "output_type": "execute_result"
    }
   ],
   "source": [
    "home_df.head()"
   ]
  },
  {
   "cell_type": "code",
   "execution_count": 39,
   "metadata": {},
   "outputs": [
    {
     "data": {
      "text/plain": [
       "array([   0, 1987, 1982, 2014, 1971, 2011, 1999, 1990, 2002, 2000, 1996,\n",
       "       2004, 2008, 2009, 1986, 1989, 1994, 1979, 1984, 2012, 1993, 1969,\n",
       "       1967, 2006, 1950, 2007, 2010, 1940, 1985, 1978, 2015, 1973, 2005,\n",
       "       2003, 1955, 2001, 1991, 1963, 1977, 1957, 1997, 1960, 1965, 1970,\n",
       "       1975, 1983, 2013, 1992, 1995, 1988, 1974, 1972, 1980, 1998, 1958,\n",
       "       1934, 1981, 1946, 1953, 1976, 1968, 1951, 1945, 1944, 1964, 1959,\n",
       "       1956, 1954, 1962, 1948], dtype=int64)"
      ]
     },
     "execution_count": 39,
     "metadata": {},
     "output_type": "execute_result"
    }
   ],
   "source": [
    "home_df.yr_renovated.unique()"
   ]
  },
  {
   "cell_type": "code",
   "execution_count": 40,
   "metadata": {},
   "outputs": [
    {
     "data": {
      "text/plain": [
       "cid                   int64\n",
       "dayhours             object\n",
       "price                 int64\n",
       "room_bed              int64\n",
       "room_bath           float64\n",
       "living_measure        int64\n",
       "lot_measure           int64\n",
       "ceil                float64\n",
       "coast                 int64\n",
       "sight                 int64\n",
       "condition             int64\n",
       "quality               int64\n",
       "ceil_measure          int64\n",
       "basement              int64\n",
       "yr_built              int64\n",
       "yr_renovated          int64\n",
       "zipcode               int64\n",
       "lat                 float64\n",
       "long                float64\n",
       "living_measure15      int64\n",
       "lot_measure15         int64\n",
       "furnished             int64\n",
       "total_area            int64\n",
       "dtype: object"
      ]
     },
     "execution_count": 40,
     "metadata": {},
     "output_type": "execute_result"
    }
   ],
   "source": [
    "home_df.dtypes"
   ]
  },
  {
   "cell_type": "code",
   "execution_count": 41,
   "metadata": {},
   "outputs": [
    {
     "data": {
      "text/plain": [
       "Index(['cid', 'dayhours', 'price', 'room_bed', 'room_bath', 'living_measure',\n",
       "       'lot_measure', 'ceil', 'coast', 'sight', 'condition', 'quality',\n",
       "       'ceil_measure', 'basement', 'yr_built', 'yr_renovated', 'zipcode',\n",
       "       'lat', 'long', 'living_measure15', 'lot_measure15', 'furnished',\n",
       "       'total_area'],\n",
       "      dtype='object')"
      ]
     },
     "execution_count": 41,
     "metadata": {},
     "output_type": "execute_result"
    }
   ],
   "source": [
    "home_df.columns"
   ]
  },
  {
   "cell_type": "code",
   "execution_count": 47,
   "metadata": {},
   "outputs": [
    {
     "ename": "KeyError",
     "evalue": "('price', 'furnished', 'coast', 'room_bed', 'room_bath', 'living_measure', 'lot_measure', 'ceil', 'sight', 'condition', 'quality', 'ceil_measure', 'basement', 'yr_built', 'living_measure15', 'lot_measure15', 'total_area')",
     "output_type": "error",
     "traceback": [
      "\u001b[1;31m---------------------------------------------------------------------------\u001b[0m",
      "\u001b[1;31mKeyError\u001b[0m                                  Traceback (most recent call last)",
      "\u001b[1;32m~\\Anaconda3\\lib\\site-packages\\pandas\\core\\indexes\\base.py\u001b[0m in \u001b[0;36mget_loc\u001b[1;34m(self, key, method, tolerance)\u001b[0m\n\u001b[0;32m   2656\u001b[0m             \u001b[1;32mtry\u001b[0m\u001b[1;33m:\u001b[0m\u001b[1;33m\u001b[0m\u001b[1;33m\u001b[0m\u001b[0m\n\u001b[1;32m-> 2657\u001b[1;33m                 \u001b[1;32mreturn\u001b[0m \u001b[0mself\u001b[0m\u001b[1;33m.\u001b[0m\u001b[0m_engine\u001b[0m\u001b[1;33m.\u001b[0m\u001b[0mget_loc\u001b[0m\u001b[1;33m(\u001b[0m\u001b[0mkey\u001b[0m\u001b[1;33m)\u001b[0m\u001b[1;33m\u001b[0m\u001b[1;33m\u001b[0m\u001b[0m\n\u001b[0m\u001b[0;32m   2658\u001b[0m             \u001b[1;32mexcept\u001b[0m \u001b[0mKeyError\u001b[0m\u001b[1;33m:\u001b[0m\u001b[1;33m\u001b[0m\u001b[1;33m\u001b[0m\u001b[0m\n",
      "\u001b[1;32mpandas/_libs/index.pyx\u001b[0m in \u001b[0;36mpandas._libs.index.IndexEngine.get_loc\u001b[1;34m()\u001b[0m\n",
      "\u001b[1;32mpandas/_libs/index.pyx\u001b[0m in \u001b[0;36mpandas._libs.index.IndexEngine.get_loc\u001b[1;34m()\u001b[0m\n",
      "\u001b[1;32mpandas/_libs/hashtable_class_helper.pxi\u001b[0m in \u001b[0;36mpandas._libs.hashtable.PyObjectHashTable.get_item\u001b[1;34m()\u001b[0m\n",
      "\u001b[1;32mpandas/_libs/hashtable_class_helper.pxi\u001b[0m in \u001b[0;36mpandas._libs.hashtable.PyObjectHashTable.get_item\u001b[1;34m()\u001b[0m\n",
      "\u001b[1;31mKeyError\u001b[0m: ('price', 'furnished', 'coast', 'room_bed', 'room_bath', 'living_measure', 'lot_measure', 'ceil', 'sight', 'condition', 'quality', 'ceil_measure', 'basement', 'yr_built', 'living_measure15', 'lot_measure15', 'total_area')",
      "\nDuring handling of the above exception, another exception occurred:\n",
      "\u001b[1;31mKeyError\u001b[0m                                  Traceback (most recent call last)",
      "\u001b[1;32m<ipython-input-47-86682dcfd8c5>\u001b[0m in \u001b[0;36m<module>\u001b[1;34m\u001b[0m\n\u001b[1;32m----> 1\u001b[1;33m scale_cols = home_df['price','furnished','coast','room_bed', 'room_bath', 'living_measure',\n\u001b[0m\u001b[0;32m      2\u001b[0m        \u001b[1;34m'lot_measure'\u001b[0m\u001b[1;33m,\u001b[0m \u001b[1;34m'ceil'\u001b[0m\u001b[1;33m,\u001b[0m \u001b[1;34m'sight'\u001b[0m\u001b[1;33m,\u001b[0m \u001b[1;34m'condition'\u001b[0m\u001b[1;33m,\u001b[0m \u001b[1;34m'quality'\u001b[0m\u001b[1;33m,\u001b[0m\u001b[1;33m\u001b[0m\u001b[1;33m\u001b[0m\u001b[0m\n\u001b[0;32m      3\u001b[0m        \u001b[1;34m'ceil_measure'\u001b[0m\u001b[1;33m,\u001b[0m \u001b[1;34m'basement'\u001b[0m\u001b[1;33m,\u001b[0m \u001b[1;34m'yr_built'\u001b[0m\u001b[1;33m,\u001b[0m\u001b[1;34m'living_measure15'\u001b[0m\u001b[1;33m,\u001b[0m \u001b[1;34m'lot_measure15'\u001b[0m\u001b[1;33m,\u001b[0m\u001b[1;33m\u001b[0m\u001b[1;33m\u001b[0m\u001b[0m\n\u001b[0;32m      4\u001b[0m        'total_area']\n",
      "\u001b[1;32m~\\Anaconda3\\lib\\site-packages\\pandas\\core\\frame.py\u001b[0m in \u001b[0;36m__getitem__\u001b[1;34m(self, key)\u001b[0m\n\u001b[0;32m   2925\u001b[0m             \u001b[1;32mif\u001b[0m \u001b[0mself\u001b[0m\u001b[1;33m.\u001b[0m\u001b[0mcolumns\u001b[0m\u001b[1;33m.\u001b[0m\u001b[0mnlevels\u001b[0m \u001b[1;33m>\u001b[0m \u001b[1;36m1\u001b[0m\u001b[1;33m:\u001b[0m\u001b[1;33m\u001b[0m\u001b[1;33m\u001b[0m\u001b[0m\n\u001b[0;32m   2926\u001b[0m                 \u001b[1;32mreturn\u001b[0m \u001b[0mself\u001b[0m\u001b[1;33m.\u001b[0m\u001b[0m_getitem_multilevel\u001b[0m\u001b[1;33m(\u001b[0m\u001b[0mkey\u001b[0m\u001b[1;33m)\u001b[0m\u001b[1;33m\u001b[0m\u001b[1;33m\u001b[0m\u001b[0m\n\u001b[1;32m-> 2927\u001b[1;33m             \u001b[0mindexer\u001b[0m \u001b[1;33m=\u001b[0m \u001b[0mself\u001b[0m\u001b[1;33m.\u001b[0m\u001b[0mcolumns\u001b[0m\u001b[1;33m.\u001b[0m\u001b[0mget_loc\u001b[0m\u001b[1;33m(\u001b[0m\u001b[0mkey\u001b[0m\u001b[1;33m)\u001b[0m\u001b[1;33m\u001b[0m\u001b[1;33m\u001b[0m\u001b[0m\n\u001b[0m\u001b[0;32m   2928\u001b[0m             \u001b[1;32mif\u001b[0m \u001b[0mis_integer\u001b[0m\u001b[1;33m(\u001b[0m\u001b[0mindexer\u001b[0m\u001b[1;33m)\u001b[0m\u001b[1;33m:\u001b[0m\u001b[1;33m\u001b[0m\u001b[1;33m\u001b[0m\u001b[0m\n\u001b[0;32m   2929\u001b[0m                 \u001b[0mindexer\u001b[0m \u001b[1;33m=\u001b[0m \u001b[1;33m[\u001b[0m\u001b[0mindexer\u001b[0m\u001b[1;33m]\u001b[0m\u001b[1;33m\u001b[0m\u001b[1;33m\u001b[0m\u001b[0m\n",
      "\u001b[1;32m~\\Anaconda3\\lib\\site-packages\\pandas\\core\\indexes\\base.py\u001b[0m in \u001b[0;36mget_loc\u001b[1;34m(self, key, method, tolerance)\u001b[0m\n\u001b[0;32m   2657\u001b[0m                 \u001b[1;32mreturn\u001b[0m \u001b[0mself\u001b[0m\u001b[1;33m.\u001b[0m\u001b[0m_engine\u001b[0m\u001b[1;33m.\u001b[0m\u001b[0mget_loc\u001b[0m\u001b[1;33m(\u001b[0m\u001b[0mkey\u001b[0m\u001b[1;33m)\u001b[0m\u001b[1;33m\u001b[0m\u001b[1;33m\u001b[0m\u001b[0m\n\u001b[0;32m   2658\u001b[0m             \u001b[1;32mexcept\u001b[0m \u001b[0mKeyError\u001b[0m\u001b[1;33m:\u001b[0m\u001b[1;33m\u001b[0m\u001b[1;33m\u001b[0m\u001b[0m\n\u001b[1;32m-> 2659\u001b[1;33m                 \u001b[1;32mreturn\u001b[0m \u001b[0mself\u001b[0m\u001b[1;33m.\u001b[0m\u001b[0m_engine\u001b[0m\u001b[1;33m.\u001b[0m\u001b[0mget_loc\u001b[0m\u001b[1;33m(\u001b[0m\u001b[0mself\u001b[0m\u001b[1;33m.\u001b[0m\u001b[0m_maybe_cast_indexer\u001b[0m\u001b[1;33m(\u001b[0m\u001b[0mkey\u001b[0m\u001b[1;33m)\u001b[0m\u001b[1;33m)\u001b[0m\u001b[1;33m\u001b[0m\u001b[1;33m\u001b[0m\u001b[0m\n\u001b[0m\u001b[0;32m   2660\u001b[0m         \u001b[0mindexer\u001b[0m \u001b[1;33m=\u001b[0m \u001b[0mself\u001b[0m\u001b[1;33m.\u001b[0m\u001b[0mget_indexer\u001b[0m\u001b[1;33m(\u001b[0m\u001b[1;33m[\u001b[0m\u001b[0mkey\u001b[0m\u001b[1;33m]\u001b[0m\u001b[1;33m,\u001b[0m \u001b[0mmethod\u001b[0m\u001b[1;33m=\u001b[0m\u001b[0mmethod\u001b[0m\u001b[1;33m,\u001b[0m \u001b[0mtolerance\u001b[0m\u001b[1;33m=\u001b[0m\u001b[0mtolerance\u001b[0m\u001b[1;33m)\u001b[0m\u001b[1;33m\u001b[0m\u001b[1;33m\u001b[0m\u001b[0m\n\u001b[0;32m   2661\u001b[0m         \u001b[1;32mif\u001b[0m \u001b[0mindexer\u001b[0m\u001b[1;33m.\u001b[0m\u001b[0mndim\u001b[0m \u001b[1;33m>\u001b[0m \u001b[1;36m1\u001b[0m \u001b[1;32mor\u001b[0m \u001b[0mindexer\u001b[0m\u001b[1;33m.\u001b[0m\u001b[0msize\u001b[0m \u001b[1;33m>\u001b[0m \u001b[1;36m1\u001b[0m\u001b[1;33m:\u001b[0m\u001b[1;33m\u001b[0m\u001b[1;33m\u001b[0m\u001b[0m\n",
      "\u001b[1;32mpandas/_libs/index.pyx\u001b[0m in \u001b[0;36mpandas._libs.index.IndexEngine.get_loc\u001b[1;34m()\u001b[0m\n",
      "\u001b[1;32mpandas/_libs/index.pyx\u001b[0m in \u001b[0;36mpandas._libs.index.IndexEngine.get_loc\u001b[1;34m()\u001b[0m\n",
      "\u001b[1;32mpandas/_libs/hashtable_class_helper.pxi\u001b[0m in \u001b[0;36mpandas._libs.hashtable.PyObjectHashTable.get_item\u001b[1;34m()\u001b[0m\n",
      "\u001b[1;32mpandas/_libs/hashtable_class_helper.pxi\u001b[0m in \u001b[0;36mpandas._libs.hashtable.PyObjectHashTable.get_item\u001b[1;34m()\u001b[0m\n",
      "\u001b[1;31mKeyError\u001b[0m: ('price', 'furnished', 'coast', 'room_bed', 'room_bath', 'living_measure', 'lot_measure', 'ceil', 'sight', 'condition', 'quality', 'ceil_measure', 'basement', 'yr_built', 'living_measure15', 'lot_measure15', 'total_area')"
     ]
    }
   ],
   "source": [
    "scale_cols = ['price','furnished','coast','room_bed', 'room_bath', 'living_measure',\n",
    "       'lot_measure', 'ceil', 'sight', 'condition', 'quality',\n",
    "       'ceil_measure', 'basement', 'yr_built','living_measure15', 'lot_measure15',\n",
    "       'total_area']"
   ]
  },
  {
   "cell_type": "code",
   "execution_count": 49,
   "metadata": {},
   "outputs": [
    {
     "data": {
      "text/plain": [
       "Index(['cid', 'dayhours', 'price', 'room_bed', 'room_bath', 'living_measure',\n",
       "       'lot_measure', 'ceil', 'coast', 'sight', 'condition', 'quality',\n",
       "       'ceil_measure', 'basement', 'yr_built', 'yr_renovated', 'zipcode',\n",
       "       'lat', 'long', 'living_measure15', 'lot_measure15', 'furnished',\n",
       "       'total_area'],\n",
       "      dtype='object')"
      ]
     },
     "execution_count": 49,
     "metadata": {},
     "output_type": "execute_result"
    }
   ],
   "source": [
    "home_df.columns"
   ]
  },
  {
   "cell_type": "code",
   "execution_count": 55,
   "metadata": {},
   "outputs": [],
   "source": [
    "df = home_df.drop(['cid','dayhours','zipcode',\n",
    "       'lat', 'long'], axis=1)"
   ]
  },
  {
   "cell_type": "code",
   "execution_count": 56,
   "metadata": {},
   "outputs": [
    {
     "data": {
      "text/plain": [
       "Index(['price', 'room_bed', 'room_bath', 'living_measure', 'lot_measure',\n",
       "       'ceil', 'coast', 'sight', 'condition', 'quality', 'ceil_measure',\n",
       "       'basement', 'yr_built', 'yr_renovated', 'living_measure15',\n",
       "       'lot_measure15', 'furnished', 'total_area'],\n",
       "      dtype='object')"
      ]
     },
     "execution_count": 56,
     "metadata": {},
     "output_type": "execute_result"
    }
   ],
   "source": [
    "df.columns"
   ]
  },
  {
   "cell_type": "code",
   "execution_count": 57,
   "metadata": {},
   "outputs": [
    {
     "data": {
      "text/plain": [
       "array([[4.0000e+00, 3.2500e+00, 3.0200e+03, ..., 7.5530e+03, 1.0000e+00,\n",
       "        1.6477e+04],\n",
       "       [4.0000e+00, 2.5000e+00, 2.5500e+03, ..., 8.8000e+03, 0.0000e+00,\n",
       "        1.0050e+04],\n",
       "       [3.0000e+00, 2.5000e+00, 2.3700e+03, ..., 4.3480e+03, 0.0000e+00,\n",
       "        6.6940e+03],\n",
       "       ...,\n",
       "       [4.0000e+00, 2.7500e+00, 2.7900e+03, ..., 5.5090e+03, 0.0000e+00,\n",
       "        8.3170e+03],\n",
       "       [2.0000e+00, 2.0000e+00, 1.4400e+03, ..., 1.5000e+04, 0.0000e+00,\n",
       "        1.6440e+04],\n",
       "       [3.0000e+00, 1.0000e+00, 9.7000e+02, ..., 6.1280e+03, 0.0000e+00,\n",
       "        6.8920e+03]])"
      ]
     },
     "execution_count": 57,
     "metadata": {},
     "output_type": "execute_result"
    }
   ],
   "source": [
    "df.values[:,1:]"
   ]
  },
  {
   "cell_type": "code",
   "execution_count": 58,
   "metadata": {},
   "outputs": [
    {
     "data": {
      "text/html": [
       "<div>\n",
       "<style scoped>\n",
       "    .dataframe tbody tr th:only-of-type {\n",
       "        vertical-align: middle;\n",
       "    }\n",
       "\n",
       "    .dataframe tbody tr th {\n",
       "        vertical-align: top;\n",
       "    }\n",
       "\n",
       "    .dataframe thead th {\n",
       "        text-align: right;\n",
       "    }\n",
       "</style>\n",
       "<table border=\"1\" class=\"dataframe\">\n",
       "  <thead>\n",
       "    <tr style=\"text-align: right;\">\n",
       "      <th></th>\n",
       "      <th>price</th>\n",
       "      <th>room_bed</th>\n",
       "      <th>room_bath</th>\n",
       "      <th>living_measure</th>\n",
       "      <th>lot_measure</th>\n",
       "      <th>ceil</th>\n",
       "      <th>coast</th>\n",
       "      <th>sight</th>\n",
       "      <th>condition</th>\n",
       "      <th>quality</th>\n",
       "      <th>ceil_measure</th>\n",
       "      <th>basement</th>\n",
       "      <th>yr_built</th>\n",
       "      <th>yr_renovated</th>\n",
       "      <th>living_measure15</th>\n",
       "      <th>lot_measure15</th>\n",
       "      <th>furnished</th>\n",
       "      <th>total_area</th>\n",
       "    </tr>\n",
       "  </thead>\n",
       "  <tbody>\n",
       "    <tr>\n",
       "      <th>0</th>\n",
       "      <td>808100</td>\n",
       "      <td>4</td>\n",
       "      <td>3.25</td>\n",
       "      <td>3020</td>\n",
       "      <td>13457</td>\n",
       "      <td>1.0</td>\n",
       "      <td>0</td>\n",
       "      <td>0</td>\n",
       "      <td>5</td>\n",
       "      <td>9</td>\n",
       "      <td>3020</td>\n",
       "      <td>0</td>\n",
       "      <td>63</td>\n",
       "      <td>0</td>\n",
       "      <td>2120</td>\n",
       "      <td>7553</td>\n",
       "      <td>1</td>\n",
       "      <td>16477</td>\n",
       "    </tr>\n",
       "    <tr>\n",
       "      <th>1</th>\n",
       "      <td>277500</td>\n",
       "      <td>4</td>\n",
       "      <td>2.50</td>\n",
       "      <td>2550</td>\n",
       "      <td>7500</td>\n",
       "      <td>1.0</td>\n",
       "      <td>0</td>\n",
       "      <td>0</td>\n",
       "      <td>3</td>\n",
       "      <td>8</td>\n",
       "      <td>1750</td>\n",
       "      <td>800</td>\n",
       "      <td>43</td>\n",
       "      <td>0</td>\n",
       "      <td>2260</td>\n",
       "      <td>8800</td>\n",
       "      <td>0</td>\n",
       "      <td>10050</td>\n",
       "    </tr>\n",
       "    <tr>\n",
       "      <th>2</th>\n",
       "      <td>404000</td>\n",
       "      <td>3</td>\n",
       "      <td>2.50</td>\n",
       "      <td>2370</td>\n",
       "      <td>4324</td>\n",
       "      <td>2.0</td>\n",
       "      <td>0</td>\n",
       "      <td>0</td>\n",
       "      <td>3</td>\n",
       "      <td>8</td>\n",
       "      <td>2370</td>\n",
       "      <td>0</td>\n",
       "      <td>13</td>\n",
       "      <td>0</td>\n",
       "      <td>2370</td>\n",
       "      <td>4348</td>\n",
       "      <td>0</td>\n",
       "      <td>6694</td>\n",
       "    </tr>\n",
       "    <tr>\n",
       "      <th>3</th>\n",
       "      <td>300000</td>\n",
       "      <td>2</td>\n",
       "      <td>1.00</td>\n",
       "      <td>820</td>\n",
       "      <td>3844</td>\n",
       "      <td>1.0</td>\n",
       "      <td>0</td>\n",
       "      <td>0</td>\n",
       "      <td>4</td>\n",
       "      <td>6</td>\n",
       "      <td>820</td>\n",
       "      <td>0</td>\n",
       "      <td>103</td>\n",
       "      <td>0</td>\n",
       "      <td>1520</td>\n",
       "      <td>3844</td>\n",
       "      <td>0</td>\n",
       "      <td>4664</td>\n",
       "    </tr>\n",
       "    <tr>\n",
       "      <th>4</th>\n",
       "      <td>699000</td>\n",
       "      <td>2</td>\n",
       "      <td>1.50</td>\n",
       "      <td>1400</td>\n",
       "      <td>4050</td>\n",
       "      <td>1.0</td>\n",
       "      <td>0</td>\n",
       "      <td>0</td>\n",
       "      <td>4</td>\n",
       "      <td>8</td>\n",
       "      <td>1400</td>\n",
       "      <td>0</td>\n",
       "      <td>65</td>\n",
       "      <td>0</td>\n",
       "      <td>1900</td>\n",
       "      <td>5940</td>\n",
       "      <td>0</td>\n",
       "      <td>5450</td>\n",
       "    </tr>\n",
       "  </tbody>\n",
       "</table>\n",
       "</div>"
      ],
      "text/plain": [
       "    price  room_bed  room_bath  living_measure  lot_measure  ceil  coast  \\\n",
       "0  808100         4       3.25            3020        13457   1.0      0   \n",
       "1  277500         4       2.50            2550         7500   1.0      0   \n",
       "2  404000         3       2.50            2370         4324   2.0      0   \n",
       "3  300000         2       1.00             820         3844   1.0      0   \n",
       "4  699000         2       1.50            1400         4050   1.0      0   \n",
       "\n",
       "   sight  condition  quality  ceil_measure  basement  yr_built  yr_renovated  \\\n",
       "0      0          5        9          3020         0        63             0   \n",
       "1      0          3        8          1750       800        43             0   \n",
       "2      0          3        8          2370         0        13             0   \n",
       "3      0          4        6           820         0       103             0   \n",
       "4      0          4        8          1400         0        65             0   \n",
       "\n",
       "   living_measure15  lot_measure15  furnished  total_area  \n",
       "0              2120           7553          1       16477  \n",
       "1              2260           8800          0       10050  \n",
       "2              2370           4348          0        6694  \n",
       "3              1520           3844          0        4664  \n",
       "4              1900           5940          0        5450  "
      ]
     },
     "execution_count": 58,
     "metadata": {},
     "output_type": "execute_result"
    }
   ],
   "source": [
    "df.head()"
   ]
  },
  {
   "cell_type": "code",
   "execution_count": 69,
   "metadata": {},
   "outputs": [],
   "source": [
    "from sklearn.preprocessing import StandardScaler\n",
    "X = df.values[:,1:]\n",
    "scaled_array = StandardScaler().fit_transform(X)"
   ]
  },
  {
   "cell_type": "code",
   "execution_count": 77,
   "metadata": {},
   "outputs": [
    {
     "data": {
      "text/plain": [
       "Index(['price', 'room_bed', 'room_bath', 'living_measure', 'lot_measure',\n",
       "       'ceil', 'coast', 'sight', 'condition', 'quality', 'ceil_measure',\n",
       "       'basement', 'yr_built', 'yr_renovated', 'living_measure15',\n",
       "       'lot_measure15', 'furnished', 'total_area'],\n",
       "      dtype='object')"
      ]
     },
     "execution_count": 77,
     "metadata": {},
     "output_type": "execute_result"
    }
   ],
   "source": [
    "df.columns"
   ]
  },
  {
   "cell_type": "code",
   "execution_count": 75,
   "metadata": {},
   "outputs": [],
   "source": [
    "scaled_df =pd.DataFrame({'room_bed': scaled_array[:, 0],'room_bath': scaled_array[:, 1],\n",
    "                         'living_measure': scaled_array[:, 2],'lot_measure': scaled_array[:, 3],\n",
    "                         'ceil': scaled_array[:, 4],'coast': scaled_array[:, 5], \n",
    "                         'sight': scaled_array[:, 6],'condition': scaled_array[:, 7],'quality': scaled_array[:, 8],\n",
    "                         'ceil_measure': scaled_array[:, 9],'basement': scaled_array[:, 10], \n",
    "                         'yr_built': scaled_array[:, 11],'yr_renovated': scaled_array[:, 12],\n",
    "                         'living_measure15': scaled_array[:, 13],'lot_measure15': scaled_array[:, 14], \n",
    "                         'furnished': scaled_array[:, 15],'total_area': scaled_array[:, 16]})"
   ]
  },
  {
   "cell_type": "code",
   "execution_count": 76,
   "metadata": {},
   "outputs": [
    {
     "data": {
      "text/html": [
       "<div>\n",
       "<style scoped>\n",
       "    .dataframe tbody tr th:only-of-type {\n",
       "        vertical-align: middle;\n",
       "    }\n",
       "\n",
       "    .dataframe tbody tr th {\n",
       "        vertical-align: top;\n",
       "    }\n",
       "\n",
       "    .dataframe thead th {\n",
       "        text-align: right;\n",
       "    }\n",
       "</style>\n",
       "<table border=\"1\" class=\"dataframe\">\n",
       "  <thead>\n",
       "    <tr style=\"text-align: right;\">\n",
       "      <th></th>\n",
       "      <th>room_bed</th>\n",
       "      <th>room_bath</th>\n",
       "      <th>living_measure</th>\n",
       "      <th>lot_measure</th>\n",
       "      <th>ceil</th>\n",
       "      <th>coast</th>\n",
       "      <th>sight</th>\n",
       "      <th>condition</th>\n",
       "      <th>quality</th>\n",
       "      <th>ceil_measure</th>\n",
       "      <th>basement</th>\n",
       "      <th>yr_built</th>\n",
       "      <th>yr_renovated</th>\n",
       "      <th>living_measure15</th>\n",
       "      <th>lot_measure15</th>\n",
       "      <th>furnished</th>\n",
       "      <th>total_area</th>\n",
       "    </tr>\n",
       "  </thead>\n",
       "  <tbody>\n",
       "    <tr>\n",
       "      <th>0</th>\n",
       "      <td>0.676485</td>\n",
       "      <td>1.474063</td>\n",
       "      <td>1.023606</td>\n",
       "      <td>-0.039835</td>\n",
       "      <td>-0.915427</td>\n",
       "      <td>-0.087173</td>\n",
       "      <td>-0.305759</td>\n",
       "      <td>2.444294</td>\n",
       "      <td>1.142667</td>\n",
       "      <td>1.487322</td>\n",
       "      <td>-0.658681</td>\n",
       "      <td>0.464849</td>\n",
       "      <td>-0.210128</td>\n",
       "      <td>0.194707</td>\n",
       "      <td>-0.191018</td>\n",
       "      <td>2.020944</td>\n",
       "      <td>-0.017069</td>\n",
       "    </tr>\n",
       "    <tr>\n",
       "      <th>1</th>\n",
       "      <td>0.676485</td>\n",
       "      <td>0.500221</td>\n",
       "      <td>0.511858</td>\n",
       "      <td>-0.183656</td>\n",
       "      <td>-0.915427</td>\n",
       "      <td>-0.087173</td>\n",
       "      <td>-0.305759</td>\n",
       "      <td>-0.629187</td>\n",
       "      <td>0.291916</td>\n",
       "      <td>-0.046362</td>\n",
       "      <td>1.148964</td>\n",
       "      <td>-0.158348</td>\n",
       "      <td>-0.210128</td>\n",
       "      <td>0.398975</td>\n",
       "      <td>-0.145346</td>\n",
       "      <td>-0.494818</td>\n",
       "      <td>-0.171608</td>\n",
       "    </tr>\n",
       "    <tr>\n",
       "      <th>2</th>\n",
       "      <td>-0.398737</td>\n",
       "      <td>0.500221</td>\n",
       "      <td>0.315869</td>\n",
       "      <td>-0.260335</td>\n",
       "      <td>0.936506</td>\n",
       "      <td>-0.087173</td>\n",
       "      <td>-0.305759</td>\n",
       "      <td>-0.629187</td>\n",
       "      <td>0.291916</td>\n",
       "      <td>0.702366</td>\n",
       "      <td>-0.658681</td>\n",
       "      <td>-1.093144</td>\n",
       "      <td>-0.210128</td>\n",
       "      <td>0.559471</td>\n",
       "      <td>-0.308402</td>\n",
       "      <td>-0.494818</td>\n",
       "      <td>-0.252304</td>\n",
       "    </tr>\n",
       "    <tr>\n",
       "      <th>3</th>\n",
       "      <td>-1.473959</td>\n",
       "      <td>-1.447464</td>\n",
       "      <td>-1.371813</td>\n",
       "      <td>-0.271924</td>\n",
       "      <td>-0.915427</td>\n",
       "      <td>-0.087173</td>\n",
       "      <td>-0.305759</td>\n",
       "      <td>0.907554</td>\n",
       "      <td>-1.409587</td>\n",
       "      <td>-1.169453</td>\n",
       "      <td>-0.658681</td>\n",
       "      <td>1.711243</td>\n",
       "      <td>-0.210128</td>\n",
       "      <td>-0.680725</td>\n",
       "      <td>-0.326861</td>\n",
       "      <td>-0.494818</td>\n",
       "      <td>-0.301116</td>\n",
       "    </tr>\n",
       "    <tr>\n",
       "      <th>4</th>\n",
       "      <td>-1.473959</td>\n",
       "      <td>-0.798235</td>\n",
       "      <td>-0.740293</td>\n",
       "      <td>-0.266950</td>\n",
       "      <td>-0.915427</td>\n",
       "      <td>-0.087173</td>\n",
       "      <td>-0.305759</td>\n",
       "      <td>0.907554</td>\n",
       "      <td>0.291916</td>\n",
       "      <td>-0.469030</td>\n",
       "      <td>-0.658681</td>\n",
       "      <td>0.527169</td>\n",
       "      <td>-0.210128</td>\n",
       "      <td>-0.126285</td>\n",
       "      <td>-0.250094</td>\n",
       "      <td>-0.494818</td>\n",
       "      <td>-0.282217</td>\n",
       "    </tr>\n",
       "  </tbody>\n",
       "</table>\n",
       "</div>"
      ],
      "text/plain": [
       "   room_bed  room_bath  living_measure  lot_measure      ceil     coast  \\\n",
       "0  0.676485   1.474063        1.023606    -0.039835 -0.915427 -0.087173   \n",
       "1  0.676485   0.500221        0.511858    -0.183656 -0.915427 -0.087173   \n",
       "2 -0.398737   0.500221        0.315869    -0.260335  0.936506 -0.087173   \n",
       "3 -1.473959  -1.447464       -1.371813    -0.271924 -0.915427 -0.087173   \n",
       "4 -1.473959  -0.798235       -0.740293    -0.266950 -0.915427 -0.087173   \n",
       "\n",
       "      sight  condition   quality  ceil_measure  basement  yr_built  \\\n",
       "0 -0.305759   2.444294  1.142667      1.487322 -0.658681  0.464849   \n",
       "1 -0.305759  -0.629187  0.291916     -0.046362  1.148964 -0.158348   \n",
       "2 -0.305759  -0.629187  0.291916      0.702366 -0.658681 -1.093144   \n",
       "3 -0.305759   0.907554 -1.409587     -1.169453 -0.658681  1.711243   \n",
       "4 -0.305759   0.907554  0.291916     -0.469030 -0.658681  0.527169   \n",
       "\n",
       "   yr_renovated  living_measure15  lot_measure15  furnished  total_area  \n",
       "0     -0.210128          0.194707      -0.191018   2.020944   -0.017069  \n",
       "1     -0.210128          0.398975      -0.145346  -0.494818   -0.171608  \n",
       "2     -0.210128          0.559471      -0.308402  -0.494818   -0.252304  \n",
       "3     -0.210128         -0.680725      -0.326861  -0.494818   -0.301116  \n",
       "4     -0.210128         -0.126285      -0.250094  -0.494818   -0.282217  "
      ]
     },
     "execution_count": 76,
     "metadata": {},
     "output_type": "execute_result"
    }
   ],
   "source": [
    "scaled_df.head()"
   ]
  },
  {
   "cell_type": "code",
   "execution_count": 78,
   "metadata": {},
   "outputs": [],
   "source": [
    "price = df['price']"
   ]
  },
  {
   "cell_type": "code",
   "execution_count": 79,
   "metadata": {},
   "outputs": [
    {
     "data": {
      "text/plain": [
       "0         808100\n",
       "1         277500\n",
       "2         404000\n",
       "3         300000\n",
       "4         699000\n",
       "5         585000\n",
       "6         465000\n",
       "7         480000\n",
       "8         780000\n",
       "9         215000\n",
       "10        402000\n",
       "11        299000\n",
       "12        785000\n",
       "13        865000\n",
       "14        554000\n",
       "15        361000\n",
       "16        459000\n",
       "17        200000\n",
       "18        403000\n",
       "19        327500\n",
       "20        700000\n",
       "21        730000\n",
       "22        207000\n",
       "23        750000\n",
       "24        595000\n",
       "25        338000\n",
       "26        500000\n",
       "27        834000\n",
       "28       1450000\n",
       "29        432000\n",
       "          ...   \n",
       "21583     355300\n",
       "21584     290000\n",
       "21585     499950\n",
       "21586     255000\n",
       "21587     320000\n",
       "21588     256000\n",
       "21589     374950\n",
       "21590     487500\n",
       "21591     441000\n",
       "21592     669000\n",
       "21593     467500\n",
       "21594     724000\n",
       "21595      90000\n",
       "21596     274000\n",
       "21597     432000\n",
       "21598     190000\n",
       "21599     329900\n",
       "21600     280000\n",
       "21601     351000\n",
       "21602     799950\n",
       "21603     650000\n",
       "21604     289950\n",
       "21605     397500\n",
       "21606     499000\n",
       "21607     835000\n",
       "21608     300000\n",
       "21609     320000\n",
       "21610     483453\n",
       "21611     365000\n",
       "21612     354950\n",
       "Name: price, Length: 21613, dtype: int64"
      ]
     },
     "execution_count": 79,
     "metadata": {},
     "output_type": "execute_result"
    }
   ],
   "source": [
    "price.iloc()"
   ]
  },
  {
   "cell_type": "code",
   "execution_count": 80,
   "metadata": {},
   "outputs": [
    {
     "data": {
      "text/plain": [
       "Index(['price', 'room_bed', 'room_bath', 'living_measure', 'lot_measure',\n",
       "       'ceil', 'coast', 'sight', 'condition', 'quality', 'ceil_measure',\n",
       "       'basement', 'yr_built', 'yr_renovated', 'living_measure15',\n",
       "       'lot_measure15', 'furnished', 'total_area'],\n",
       "      dtype='object')"
      ]
     },
     "execution_count": 80,
     "metadata": {},
     "output_type": "execute_result"
    }
   ],
   "source": [
    "df.columns"
   ]
  },
  {
   "cell_type": "code",
   "execution_count": 81,
   "metadata": {},
   "outputs": [],
   "source": [
    "y = df[[\"price\"]]\n",
    "X = df.drop(columns=\"price\")"
   ]
  },
  {
   "cell_type": "code",
   "execution_count": 85,
   "metadata": {},
   "outputs": [],
   "source": [
    "from sklearn.model_selection import train_test_split\n",
    "train_X,test_X,train_Y,test_Y = train_test_split(X,y,test_size=0.3)"
   ]
  },
  {
   "cell_type": "code",
   "execution_count": 141,
   "metadata": {},
   "outputs": [],
   "source": [
    "def mape(train_y,train_predict):\n",
    "    return np.mean(np.abs((train_y-train_predict)/train_y))*100"
   ]
  },
  {
   "cell_type": "code",
   "execution_count": 169,
   "metadata": {},
   "outputs": [],
   "source": [
    "from sklearn.metrics import mean_absolute_error, mean_squared_error,r2_score\n",
    "from sklearn.preprocessing import StandardScaler\n",
    "from sklearn.preprocessing import PolynomialFeatures\n",
    "from sklearn.model_selection import cross_val_score\n",
    "\n",
    "model_metrics={}\n",
    "def calc_metrics_and_predict(model,model_label,train_X,test_X,train_Y,test_Y, scaler,cv):\n",
    "    if scaler is not None:\n",
    "        # Scaling\n",
    "        print(\"Scaling applied\")\n",
    "        train_X = scaler.fit_transform(train_X)\n",
    "        test_X = scaler.transform(test_X)\n",
    "    print(\"fit data\")    \n",
    "    model.fit(train_X, train_Y)\n",
    "    print(\"predict data\")\n",
    "    yhat_train = model.predict(train_X)\n",
    "    rmse=np.sqrt(mean_squared_error(train_Y, yhat_train))\n",
    "    mae=mean_absolute_error(train_Y,yhat_train)\n",
    "    #mape=np.mean(np.abs((train_Y - yhat_train) / train_Y)) * 100\n",
    "    map = mape(np.array(train_Y),np.array(yhat_train))\n",
    "    print(map)\n",
    "    #mape=mae * 100\n",
    "    if cv==True:\n",
    "        print(\"Cross-Validation score\")\n",
    "        scores = cross_val_score(model, train_X, train_Y, cv = 10,scoring='neg_mean_squared_error') \n",
    "        avg_cross_val_score = np.mean(np.sqrt(np.abs(scores)))\n",
    "    else:\n",
    "        avg_cross_val_score=None\n",
    "    #avg_cross_val_score=0\n",
    "    \n",
    "    #Predict test data and add to test_fnal dataframe\n",
    "    test_final =  model.predict(test_X)\n",
    "    map_test = mape(np.array(test_Y),np.array(test_final))\n",
    "    model_metrics[model_label]=[map,map_test]\n",
    "    return model_metrics"
   ]
  },
  {
   "cell_type": "code",
   "execution_count": null,
   "metadata": {},
   "outputs": [
    {
     "name": "stdout",
     "output_type": "stream",
     "text": [
      "Grid search started\n",
      "Fitting 3 folds for each of 3087 candidates, totalling 9261 fits\n"
     ]
    },
    {
     "name": "stderr",
     "output_type": "stream",
     "text": [
      "C:\\Users\\Nagi\\Anaconda3\\lib\\site-packages\\sklearn\\model_selection\\_split.py:2053: FutureWarning: You should specify a value for 'cv' instead of relying on the default value. The default value will change from 3 to 5 in version 0.22.\n",
      "  warnings.warn(CV_WARNING, FutureWarning)\n",
      "[Parallel(n_jobs=-1)]: Using backend LokyBackend with 4 concurrent workers.\n",
      "[Parallel(n_jobs=-1)]: Done  85 tasks      | elapsed:    3.3s\n",
      "[Parallel(n_jobs=-1)]: Done 1285 tasks      | elapsed:   15.3s\n",
      "[Parallel(n_jobs=-1)]: Done 2969 tasks      | elapsed:   47.0s\n",
      "[Parallel(n_jobs=-1)]: Done 3437 tasks      | elapsed:  5.6min\n"
     ]
    }
   ],
   "source": [
    "# Decision Tree regressor\n",
    "from sklearn.tree import DecisionTreeRegressor\n",
    "from sklearn.metrics import make_scorer\n",
    "from sklearn.model_selection import GridSearchCV\n",
    "\n",
    "# Choose the type of classifier. \n",
    "clf = DecisionTreeRegressor()\n",
    "\n",
    "\n",
    "# Choose some parameter combinations to try\n",
    "parameters = {'criterion' : ['mse','mae','friedman_mse'],\n",
    "              'max_features': ['log2', 'sqrt','auto'],\n",
    "              'max_depth': range(2,16,2), \n",
    "              'min_samples_split': range(2,16,2),\n",
    "              'min_samples_leaf': range(2,16,2)             \n",
    "\n",
    "             }\n",
    "\n",
    "\n",
    "\n",
    "\n",
    "print(\"Grid search started\")\n",
    "#start_time = time.time()\n",
    "# Run the grid search\n",
    "grid_obj = GridSearchCV(clf, parameters, scoring='neg_mean_squared_error', n_jobs=-1, verbose=1)\n",
    "grid_obj = grid_obj.fit(train_X, train_Y)\n",
    "#elapsed_time = time.time() - start_time\n",
    "#print(elapsed_time)\n",
    "# Set the clf to the best combination of parameters\n",
    "clf = grid_obj.best_estimator_\n",
    "clf"
   ]
  },
  {
   "cell_type": "code",
   "execution_count": null,
   "metadata": {},
   "outputs": [],
   "source": [
    "from sklearn.ensemble import RandomForestClassifier, RandomForestRegressor\n",
    "from sklearn.model_selection import cross_val_score, train_test_split, StratifiedKFold\n",
    "rmf = RandomForestRegressor(n_jobs = -1)\n",
    "model_metrics=calc_metrics_and_predict(rmf,'Random Forest',train_X,test_X,train_Y,test_Y,None, True)\n",
    "model_metrics"
   ]
  },
  {
   "cell_type": "code",
   "execution_count": 162,
   "metadata": {},
   "outputs": [
    {
     "name": "stdout",
     "output_type": "stream",
     "text": [
      "fit data\n",
      "predict data\n",
      "28.654683725618824\n",
      "Cross-Validation score\n"
     ]
    },
    {
     "data": {
      "text/plain": [
       "{'Random Forest': [69.25166668994999, 68.8701712237569],\n",
       " 'linear_reg': [28.654683725618824, 29.429564074749837]}"
      ]
     },
     "execution_count": 162,
     "metadata": {},
     "output_type": "execute_result"
    }
   ],
   "source": [
    "# Linear Regression\n",
    "# Linear regression\n",
    "from sklearn.linear_model import LinearRegression\n",
    "\n",
    "linear_model = LinearRegression()\n",
    "        \n",
    "model_metrics=calc_metrics_and_predict(linear_model,'linear_reg',train_X,test_X,train_Y,test_Y,None,True)\n",
    "model_metrics"
   ]
  },
  {
   "cell_type": "code",
   "execution_count": 163,
   "metadata": {},
   "outputs": [
    {
     "name": "stdout",
     "output_type": "stream",
     "text": [
      "0.25 : 219786.59257395743\n",
      "0.5 : 219785.37507166658\n",
      "0.75 : 219784.26934775975\n",
      "1.0 : 219783.27331081554\n",
      "1.25 : 219782.3849091578\n",
      "1.5 : 219781.60213001832\n",
      "1.75 : 219780.9229987213\n",
      "2.0 : 219780.34557788252\n"
     ]
    }
   ],
   "source": [
    "# Regularization technique\n",
    "from sklearn.linear_model import Ridge, Lasso \n",
    "\n",
    "# List to maintain the different cross-validation scores \n",
    "cross_val_scores_ridge = [] \n",
    "  \n",
    "# List to maintain the different values of alpha \n",
    "alpha = [] \n",
    "  \n",
    "# Loop to compute the different values of cross-validation scores \n",
    "for i in range(1, 9): \n",
    "    ridgeModel = Ridge(alpha = i * 0.25) \n",
    "    ridgeModel.fit(train_X, train_Y) \n",
    "    scores = cross_val_score(ridgeModel, train_X, train_Y, cv = 10,scoring='neg_mean_squared_error') \n",
    "    avg_cross_val_score = np.mean(np.sqrt(np.abs(scores)))\n",
    "    cross_val_scores_ridge.append(avg_cross_val_score) \n",
    "    alpha.append(i * 0.25) \n",
    "  \n",
    "# Loop to print the different values of cross-validation scores \n",
    "for i in range(0, len(alpha)): \n",
    "    print(str(alpha[i])+' : '+str(cross_val_scores_ridge[i])) "
   ]
  },
  {
   "cell_type": "code",
   "execution_count": 164,
   "metadata": {
    "scrolled": true
   },
   "outputs": [
    {
     "name": "stdout",
     "output_type": "stream",
     "text": [
      "fit data\n",
      "predict data\n",
      "28.654413730914346\n",
      "Cross-Validation score\n"
     ]
    },
    {
     "data": {
      "text/plain": [
       "{'Random Forest': [69.25166668994999, 68.8701712237569],\n",
       " 'linear_reg': [28.654683725618824, 29.429564074749837],\n",
       " 'regularization': [28.654413730914346, 29.428710871981956]}"
      ]
     },
     "execution_count": 164,
     "metadata": {},
     "output_type": "execute_result"
    }
   ],
   "source": [
    "#Building ridge model\n",
    "ridgeModel = Ridge(alpha = 1 * 0.25) \n",
    "model_metrics=calc_metrics_and_predict(ridgeModel,'regularization',train_X,test_X,train_Y,test_Y,None,True)\n",
    "model_metrics"
   ]
  },
  {
   "cell_type": "code",
   "execution_count": 165,
   "metadata": {},
   "outputs": [
    {
     "name": "stderr",
     "output_type": "stream",
     "text": [
      "C:\\Users\\Nagi\\Anaconda3\\lib\\site-packages\\sklearn\\linear_model\\coordinate_descent.py:492: ConvergenceWarning: Objective did not converge. You might want to increase the number of iterations. Fitting data with very small alpha may cause precision problems.\n",
      "  ConvergenceWarning)\n",
      "C:\\Users\\Nagi\\Anaconda3\\lib\\site-packages\\sklearn\\linear_model\\coordinate_descent.py:492: ConvergenceWarning: Objective did not converge. You might want to increase the number of iterations. Fitting data with very small alpha may cause precision problems.\n",
      "  ConvergenceWarning)\n",
      "C:\\Users\\Nagi\\Anaconda3\\lib\\site-packages\\sklearn\\linear_model\\coordinate_descent.py:492: ConvergenceWarning: Objective did not converge. You might want to increase the number of iterations. Fitting data with very small alpha may cause precision problems.\n",
      "  ConvergenceWarning)\n",
      "C:\\Users\\Nagi\\Anaconda3\\lib\\site-packages\\sklearn\\linear_model\\coordinate_descent.py:492: ConvergenceWarning: Objective did not converge. You might want to increase the number of iterations. Fitting data with very small alpha may cause precision problems.\n",
      "  ConvergenceWarning)\n",
      "C:\\Users\\Nagi\\Anaconda3\\lib\\site-packages\\sklearn\\linear_model\\coordinate_descent.py:492: ConvergenceWarning: Objective did not converge. You might want to increase the number of iterations. Fitting data with very small alpha may cause precision problems.\n",
      "  ConvergenceWarning)\n",
      "C:\\Users\\Nagi\\Anaconda3\\lib\\site-packages\\sklearn\\linear_model\\coordinate_descent.py:492: ConvergenceWarning: Objective did not converge. You might want to increase the number of iterations. Fitting data with very small alpha may cause precision problems.\n",
      "  ConvergenceWarning)\n",
      "C:\\Users\\Nagi\\Anaconda3\\lib\\site-packages\\sklearn\\linear_model\\coordinate_descent.py:492: ConvergenceWarning: Objective did not converge. You might want to increase the number of iterations. Fitting data with very small alpha may cause precision problems.\n",
      "  ConvergenceWarning)\n"
     ]
    },
    {
     "name": "stdout",
     "output_type": "stream",
     "text": [
      "0.25 : 219786.59257395743\n",
      "0.5 : 219786.59257395743\n",
      "0.75 : 219786.59257395743\n",
      "1.0 : 219786.59257395743\n",
      "1.25 : 219786.59257395743\n",
      "1.5 : 219786.59257395743\n",
      "1.75 : 219786.59257395743\n",
      "2.0 : 219786.59257395743\n"
     ]
    },
    {
     "name": "stderr",
     "output_type": "stream",
     "text": [
      "C:\\Users\\Nagi\\Anaconda3\\lib\\site-packages\\sklearn\\linear_model\\coordinate_descent.py:492: ConvergenceWarning: Objective did not converge. You might want to increase the number of iterations. Fitting data with very small alpha may cause precision problems.\n",
      "  ConvergenceWarning)\n"
     ]
    }
   ],
   "source": [
    "# Regularization technique\n",
    "from sklearn.linear_model import Ridge, Lasso \n",
    "\n",
    "# List to maintain the different cross-validation scores \n",
    "cross_val_scores_ridge = [] \n",
    "  \n",
    "# List to maintain the different values of alpha \n",
    "alpha = [] \n",
    "  \n",
    "# Loop to compute the different values of cross-validation scores \n",
    "for i in range(1, 9): \n",
    "    lassoModel = Lasso(alpha = i * 0.25) \n",
    "    lassoModel.fit(train_X, train_Y) \n",
    "    scores = cross_val_score(ridgeModel, train_X, train_Y, cv = 10,scoring='neg_mean_squared_error') \n",
    "    avg_cross_val_score = np.mean(np.sqrt(np.abs(scores)))\n",
    "    cross_val_scores_ridge.append(avg_cross_val_score) \n",
    "    alpha.append(i * 0.25) \n",
    "  \n",
    "# Loop to print the different values of cross-validation scores \n",
    "for i in range(0, len(alpha)): \n",
    "    print(str(alpha[i])+' : '+str(cross_val_scores_ridge[i])) "
   ]
  },
  {
   "cell_type": "code",
   "execution_count": 149,
   "metadata": {},
   "outputs": [
    {
     "name": "stdout",
     "output_type": "stream",
     "text": [
      "fit data\n"
     ]
    },
    {
     "name": "stderr",
     "output_type": "stream",
     "text": [
      "C:\\Users\\Nagi\\Anaconda3\\lib\\site-packages\\sklearn\\linear_model\\coordinate_descent.py:492: ConvergenceWarning: Objective did not converge. You might want to increase the number of iterations. Fitting data with very small alpha may cause precision problems.\n",
      "  ConvergenceWarning)\n"
     ]
    },
    {
     "name": "stdout",
     "output_type": "stream",
     "text": [
      "predict data\n",
      "69.166224877241\n",
      "Cross-Validation score\n"
     ]
    },
    {
     "name": "stderr",
     "output_type": "stream",
     "text": [
      "C:\\Users\\Nagi\\Anaconda3\\lib\\site-packages\\sklearn\\linear_model\\coordinate_descent.py:492: ConvergenceWarning: Objective did not converge. You might want to increase the number of iterations. Fitting data with very small alpha may cause precision problems.\n",
      "  ConvergenceWarning)\n",
      "C:\\Users\\Nagi\\Anaconda3\\lib\\site-packages\\sklearn\\linear_model\\coordinate_descent.py:492: ConvergenceWarning: Objective did not converge. You might want to increase the number of iterations. Fitting data with very small alpha may cause precision problems.\n",
      "  ConvergenceWarning)\n",
      "C:\\Users\\Nagi\\Anaconda3\\lib\\site-packages\\sklearn\\linear_model\\coordinate_descent.py:492: ConvergenceWarning: Objective did not converge. You might want to increase the number of iterations. Fitting data with very small alpha may cause precision problems.\n",
      "  ConvergenceWarning)\n",
      "C:\\Users\\Nagi\\Anaconda3\\lib\\site-packages\\sklearn\\linear_model\\coordinate_descent.py:492: ConvergenceWarning: Objective did not converge. You might want to increase the number of iterations. Fitting data with very small alpha may cause precision problems.\n",
      "  ConvergenceWarning)\n",
      "C:\\Users\\Nagi\\Anaconda3\\lib\\site-packages\\sklearn\\linear_model\\coordinate_descent.py:492: ConvergenceWarning: Objective did not converge. You might want to increase the number of iterations. Fitting data with very small alpha may cause precision problems.\n",
      "  ConvergenceWarning)\n",
      "C:\\Users\\Nagi\\Anaconda3\\lib\\site-packages\\sklearn\\linear_model\\coordinate_descent.py:492: ConvergenceWarning: Objective did not converge. You might want to increase the number of iterations. Fitting data with very small alpha may cause precision problems.\n",
      "  ConvergenceWarning)\n",
      "C:\\Users\\Nagi\\Anaconda3\\lib\\site-packages\\sklearn\\linear_model\\coordinate_descent.py:492: ConvergenceWarning: Objective did not converge. You might want to increase the number of iterations. Fitting data with very small alpha may cause precision problems.\n",
      "  ConvergenceWarning)\n",
      "C:\\Users\\Nagi\\Anaconda3\\lib\\site-packages\\sklearn\\linear_model\\coordinate_descent.py:492: ConvergenceWarning: Objective did not converge. You might want to increase the number of iterations. Fitting data with very small alpha may cause precision problems.\n",
      "  ConvergenceWarning)\n",
      "C:\\Users\\Nagi\\Anaconda3\\lib\\site-packages\\sklearn\\linear_model\\coordinate_descent.py:492: ConvergenceWarning: Objective did not converge. You might want to increase the number of iterations. Fitting data with very small alpha may cause precision problems.\n",
      "  ConvergenceWarning)\n",
      "C:\\Users\\Nagi\\Anaconda3\\lib\\site-packages\\sklearn\\linear_model\\coordinate_descent.py:492: ConvergenceWarning: Objective did not converge. You might want to increase the number of iterations. Fitting data with very small alpha may cause precision problems.\n",
      "  ConvergenceWarning)\n"
     ]
    },
    {
     "data": {
      "text/plain": [
       "{'Random Forest': [79453.2815929695,\n",
       "  47739.4446545581,\n",
       "  69.07397672344582,\n",
       "  194274.7597253114],\n",
       " 'linear_reg': [217666.23918120624,\n",
       "  138260.8393582919,\n",
       "  28.654683725618824,\n",
       "  219792.2607128391],\n",
       " 'regularization': [217665.8677896338,\n",
       "  138261.26193449684,\n",
       "  28.654413730914346,\n",
       "  219786.59257395743],\n",
       " 'Lasso regularization': [217665.82622819446,\n",
       "  138261.0518127243,\n",
       "  69.166224877241,\n",
       "  219787.90364536102]}"
      ]
     },
     "execution_count": 149,
     "metadata": {},
     "output_type": "execute_result"
    }
   ],
   "source": [
    "#Building lasso model\n",
    "lassoModel = Lasso(alpha = 1 * 0.25) \n",
    "model_metrics=calc_metrics_and_predict(lassoModel,'Lasso regularization',train_X,test_X,train_Y,test_Y,None,True)\n",
    "model_metrics"
   ]
  },
  {
   "cell_type": "code",
   "execution_count": 166,
   "metadata": {},
   "outputs": [
    {
     "name": "stdout",
     "output_type": "stream",
     "text": [
      "Scaling applied\n",
      "fit data\n",
      "predict data\n"
     ]
    },
    {
     "name": "stderr",
     "output_type": "stream",
     "text": [
      "C:\\Users\\Nagi\\Anaconda3\\lib\\site-packages\\sklearn\\preprocessing\\data.py:645: DataConversionWarning: Data with input dtype int64, float64 were all converted to float64 by StandardScaler.\n",
      "  return self.partial_fit(X, y)\n",
      "C:\\Users\\Nagi\\Anaconda3\\lib\\site-packages\\sklearn\\base.py:464: DataConversionWarning: Data with input dtype int64, float64 were all converted to float64 by StandardScaler.\n",
      "  return self.fit(X, **fit_params).transform(X)\n",
      "C:\\Users\\Nagi\\Anaconda3\\lib\\site-packages\\ipykernel_launcher.py:12: DataConversionWarning: Data with input dtype int64, float64 were all converted to float64 by StandardScaler.\n",
      "  if sys.path[0] == '':\n"
     ]
    },
    {
     "name": "stdout",
     "output_type": "stream",
     "text": [
      "18.470162699136353\n",
      "Cross-Validation score\n"
     ]
    },
    {
     "data": {
      "text/plain": [
       "{'Random Forest': [69.25166668994999, 68.8701712237569],\n",
       " 'linear_reg': [28.654683725618824, 29.429564074749837],\n",
       " 'regularization': [28.654413730914346, 29.428710871981956],\n",
       " 'KNN': [18.470162699136353, 27.56994367327733]}"
      ]
     },
     "execution_count": 166,
     "metadata": {},
     "output_type": "execute_result"
    }
   ],
   "source": [
    "#KNN\n",
    "from sklearn.neighbors import KNeighborsRegressor\n",
    "\n",
    "neigh = KNeighborsRegressor(n_neighbors = 3)\n",
    "model_metrics=calc_metrics_and_predict(neigh,'KNN',train_X,test_X,train_Y,test_Y,StandardScaler(),True)\n",
    "model_metrics"
   ]
  },
  {
   "cell_type": "code",
   "execution_count": 167,
   "metadata": {},
   "outputs": [
    {
     "name": "stdout",
     "output_type": "stream",
     "text": [
      "fit data\n"
     ]
    },
    {
     "name": "stderr",
     "output_type": "stream",
     "text": [
      "C:\\Users\\Nagi\\Anaconda3\\lib\\site-packages\\sklearn\\utils\\validation.py:761: DataConversionWarning: A column-vector y was passed when a 1d array was expected. Please change the shape of y to (n_samples, ), for example using ravel().\n",
      "  y = column_or_1d(y, warn=True)\n"
     ]
    },
    {
     "name": "stdout",
     "output_type": "stream",
     "text": [
      "predict data\n",
      "73.84507197491912\n",
      "Cross-Validation score\n"
     ]
    },
    {
     "name": "stderr",
     "output_type": "stream",
     "text": [
      "C:\\Users\\Nagi\\Anaconda3\\lib\\site-packages\\sklearn\\model_selection\\_split.py:652: Warning: The least populated class in y has only 1 members, which is too few. The minimum number of members in any class cannot be less than n_splits=10.\n",
      "  % (min_groups, self.n_splits)), Warning)\n",
      "C:\\Users\\Nagi\\Anaconda3\\lib\\site-packages\\sklearn\\utils\\validation.py:761: DataConversionWarning: A column-vector y was passed when a 1d array was expected. Please change the shape of y to (n_samples, ), for example using ravel().\n",
      "  y = column_or_1d(y, warn=True)\n",
      "C:\\Users\\Nagi\\Anaconda3\\lib\\site-packages\\sklearn\\utils\\validation.py:761: DataConversionWarning: A column-vector y was passed when a 1d array was expected. Please change the shape of y to (n_samples, ), for example using ravel().\n",
      "  y = column_or_1d(y, warn=True)\n",
      "C:\\Users\\Nagi\\Anaconda3\\lib\\site-packages\\sklearn\\utils\\validation.py:761: DataConversionWarning: A column-vector y was passed when a 1d array was expected. Please change the shape of y to (n_samples, ), for example using ravel().\n",
      "  y = column_or_1d(y, warn=True)\n",
      "C:\\Users\\Nagi\\Anaconda3\\lib\\site-packages\\sklearn\\utils\\validation.py:761: DataConversionWarning: A column-vector y was passed when a 1d array was expected. Please change the shape of y to (n_samples, ), for example using ravel().\n",
      "  y = column_or_1d(y, warn=True)\n",
      "C:\\Users\\Nagi\\Anaconda3\\lib\\site-packages\\sklearn\\utils\\validation.py:761: DataConversionWarning: A column-vector y was passed when a 1d array was expected. Please change the shape of y to (n_samples, ), for example using ravel().\n",
      "  y = column_or_1d(y, warn=True)\n",
      "C:\\Users\\Nagi\\Anaconda3\\lib\\site-packages\\sklearn\\utils\\validation.py:761: DataConversionWarning: A column-vector y was passed when a 1d array was expected. Please change the shape of y to (n_samples, ), for example using ravel().\n",
      "  y = column_or_1d(y, warn=True)\n",
      "C:\\Users\\Nagi\\Anaconda3\\lib\\site-packages\\sklearn\\utils\\validation.py:761: DataConversionWarning: A column-vector y was passed when a 1d array was expected. Please change the shape of y to (n_samples, ), for example using ravel().\n",
      "  y = column_or_1d(y, warn=True)\n",
      "C:\\Users\\Nagi\\Anaconda3\\lib\\site-packages\\sklearn\\utils\\validation.py:761: DataConversionWarning: A column-vector y was passed when a 1d array was expected. Please change the shape of y to (n_samples, ), for example using ravel().\n",
      "  y = column_or_1d(y, warn=True)\n",
      "C:\\Users\\Nagi\\Anaconda3\\lib\\site-packages\\sklearn\\utils\\validation.py:761: DataConversionWarning: A column-vector y was passed when a 1d array was expected. Please change the shape of y to (n_samples, ), for example using ravel().\n",
      "  y = column_or_1d(y, warn=True)\n",
      "C:\\Users\\Nagi\\Anaconda3\\lib\\site-packages\\sklearn\\utils\\validation.py:761: DataConversionWarning: A column-vector y was passed when a 1d array was expected. Please change the shape of y to (n_samples, ), for example using ravel().\n",
      "  y = column_or_1d(y, warn=True)\n"
     ]
    },
    {
     "data": {
      "text/plain": [
       "{'Random Forest': [69.25166668994999, 68.8701712237569],\n",
       " 'linear_reg': [28.654683725618824, 29.429564074749837],\n",
       " 'regularization': [28.654413730914346, 29.428710871981956],\n",
       " 'KNN': [18.470162699136353, 27.56994367327733],\n",
       " 'NB_Gaussian': [73.84507197491912, 73.65847716077639]}"
      ]
     },
     "execution_count": 167,
     "metadata": {},
     "output_type": "execute_result"
    }
   ],
   "source": [
    "# Gaussian\n",
    "from sklearn.naive_bayes import GaussianNB\n",
    "\n",
    "NB=GaussianNB()\n",
    "\n",
    "model_metrics=calc_metrics_and_predict(NB,'NB_Gaussian',train_X,test_X,train_Y,test_Y,None,True)\n",
    "model_metrics"
   ]
  },
  {
   "cell_type": "code",
   "execution_count": 152,
   "metadata": {},
   "outputs": [
    {
     "name": "stdout",
     "output_type": "stream",
     "text": [
      "fit data\n"
     ]
    },
    {
     "name": "stderr",
     "output_type": "stream",
     "text": [
      "C:\\Users\\Nagi\\Anaconda3\\lib\\site-packages\\sklearn\\utils\\validation.py:761: DataConversionWarning: A column-vector y was passed when a 1d array was expected. Please change the shape of y to (n_samples, ), for example using ravel().\n",
      "  y = column_or_1d(y, warn=True)\n"
     ]
    },
    {
     "name": "stdout",
     "output_type": "stream",
     "text": [
      "predict data\n",
      "76.99267939520188\n",
      "Cross-Validation score\n"
     ]
    },
    {
     "name": "stderr",
     "output_type": "stream",
     "text": [
      "C:\\Users\\Nagi\\Anaconda3\\lib\\site-packages\\sklearn\\model_selection\\_split.py:652: Warning: The least populated class in y has only 1 members, which is too few. The minimum number of members in any class cannot be less than n_splits=10.\n",
      "  % (min_groups, self.n_splits)), Warning)\n",
      "C:\\Users\\Nagi\\Anaconda3\\lib\\site-packages\\sklearn\\utils\\validation.py:761: DataConversionWarning: A column-vector y was passed when a 1d array was expected. Please change the shape of y to (n_samples, ), for example using ravel().\n",
      "  y = column_or_1d(y, warn=True)\n",
      "C:\\Users\\Nagi\\Anaconda3\\lib\\site-packages\\sklearn\\utils\\validation.py:761: DataConversionWarning: A column-vector y was passed when a 1d array was expected. Please change the shape of y to (n_samples, ), for example using ravel().\n",
      "  y = column_or_1d(y, warn=True)\n",
      "C:\\Users\\Nagi\\Anaconda3\\lib\\site-packages\\sklearn\\utils\\validation.py:761: DataConversionWarning: A column-vector y was passed when a 1d array was expected. Please change the shape of y to (n_samples, ), for example using ravel().\n",
      "  y = column_or_1d(y, warn=True)\n",
      "C:\\Users\\Nagi\\Anaconda3\\lib\\site-packages\\sklearn\\utils\\validation.py:761: DataConversionWarning: A column-vector y was passed when a 1d array was expected. Please change the shape of y to (n_samples, ), for example using ravel().\n",
      "  y = column_or_1d(y, warn=True)\n",
      "C:\\Users\\Nagi\\Anaconda3\\lib\\site-packages\\sklearn\\utils\\validation.py:761: DataConversionWarning: A column-vector y was passed when a 1d array was expected. Please change the shape of y to (n_samples, ), for example using ravel().\n",
      "  y = column_or_1d(y, warn=True)\n",
      "C:\\Users\\Nagi\\Anaconda3\\lib\\site-packages\\sklearn\\utils\\validation.py:761: DataConversionWarning: A column-vector y was passed when a 1d array was expected. Please change the shape of y to (n_samples, ), for example using ravel().\n",
      "  y = column_or_1d(y, warn=True)\n",
      "C:\\Users\\Nagi\\Anaconda3\\lib\\site-packages\\sklearn\\utils\\validation.py:761: DataConversionWarning: A column-vector y was passed when a 1d array was expected. Please change the shape of y to (n_samples, ), for example using ravel().\n",
      "  y = column_or_1d(y, warn=True)\n",
      "C:\\Users\\Nagi\\Anaconda3\\lib\\site-packages\\sklearn\\utils\\validation.py:761: DataConversionWarning: A column-vector y was passed when a 1d array was expected. Please change the shape of y to (n_samples, ), for example using ravel().\n",
      "  y = column_or_1d(y, warn=True)\n",
      "C:\\Users\\Nagi\\Anaconda3\\lib\\site-packages\\sklearn\\utils\\validation.py:761: DataConversionWarning: A column-vector y was passed when a 1d array was expected. Please change the shape of y to (n_samples, ), for example using ravel().\n",
      "  y = column_or_1d(y, warn=True)\n",
      "C:\\Users\\Nagi\\Anaconda3\\lib\\site-packages\\sklearn\\utils\\validation.py:761: DataConversionWarning: A column-vector y was passed when a 1d array was expected. Please change the shape of y to (n_samples, ), for example using ravel().\n",
      "  y = column_or_1d(y, warn=True)\n"
     ]
    },
    {
     "data": {
      "text/plain": [
       "{'Random Forest': [79453.2815929695,\n",
       "  47739.4446545581,\n",
       "  69.07397672344582,\n",
       "  194274.7597253114],\n",
       " 'linear_reg': [217666.23918120624,\n",
       "  138260.8393582919,\n",
       "  28.654683725618824,\n",
       "  219792.2607128391],\n",
       " 'regularization': [217665.8677896338,\n",
       "  138261.26193449684,\n",
       "  28.654413730914346,\n",
       "  219786.59257395743],\n",
       " 'Lasso regularization': [217665.82622819446,\n",
       "  138261.0518127243,\n",
       "  69.166224877241,\n",
       "  219787.90364536102],\n",
       " 'KNN': [146254.64335756033,\n",
       "  91950.29788265363,\n",
       "  18.470162699136353,\n",
       "  211408.5247435267],\n",
       " 'NB_Gaussian': [260007.46767327114,\n",
       "  159372.24178729593,\n",
       "  73.84507197491912,\n",
       "  279482.64631801343],\n",
       " 'NB_MultinomialNB': [412345.7088136625,\n",
       "  234107.1409214092,\n",
       "  76.99267939520188,\n",
       "  428575.96791870834]}"
      ]
     },
     "execution_count": 152,
     "metadata": {},
     "output_type": "execute_result"
    }
   ],
   "source": [
    "# Naive Bayes\n",
    "from sklearn.naive_bayes import MultinomialNB\n",
    "\n",
    "NB=MultinomialNB()\n",
    "\n",
    "model_metrics=calc_metrics_and_predict(NB,'NB_MultinomialNB',train_X,test_X,train_Y,test_Y,None,True)\n",
    "model_metrics"
   ]
  },
  {
   "cell_type": "code",
   "execution_count": 168,
   "metadata": {},
   "outputs": [
    {
     "name": "stdout",
     "output_type": "stream",
     "text": [
      "fit data\n"
     ]
    },
    {
     "name": "stderr",
     "output_type": "stream",
     "text": [
      "C:\\Users\\Nagi\\Anaconda3\\lib\\site-packages\\sklearn\\utils\\validation.py:761: DataConversionWarning: A column-vector y was passed when a 1d array was expected. Please change the shape of y to (n_samples, ), for example using ravel().\n",
      "  y = column_or_1d(y, warn=True)\n"
     ]
    },
    {
     "name": "stdout",
     "output_type": "stream",
     "text": [
      "predict data\n",
      "56.23478422253376\n",
      "Cross-Validation score\n"
     ]
    },
    {
     "name": "stderr",
     "output_type": "stream",
     "text": [
      "C:\\Users\\Nagi\\Anaconda3\\lib\\site-packages\\sklearn\\model_selection\\_split.py:652: Warning: The least populated class in y has only 1 members, which is too few. The minimum number of members in any class cannot be less than n_splits=10.\n",
      "  % (min_groups, self.n_splits)), Warning)\n",
      "C:\\Users\\Nagi\\Anaconda3\\lib\\site-packages\\sklearn\\utils\\validation.py:761: DataConversionWarning: A column-vector y was passed when a 1d array was expected. Please change the shape of y to (n_samples, ), for example using ravel().\n",
      "  y = column_or_1d(y, warn=True)\n",
      "C:\\Users\\Nagi\\Anaconda3\\lib\\site-packages\\sklearn\\utils\\validation.py:761: DataConversionWarning: A column-vector y was passed when a 1d array was expected. Please change the shape of y to (n_samples, ), for example using ravel().\n",
      "  y = column_or_1d(y, warn=True)\n",
      "C:\\Users\\Nagi\\Anaconda3\\lib\\site-packages\\sklearn\\utils\\validation.py:761: DataConversionWarning: A column-vector y was passed when a 1d array was expected. Please change the shape of y to (n_samples, ), for example using ravel().\n",
      "  y = column_or_1d(y, warn=True)\n",
      "C:\\Users\\Nagi\\Anaconda3\\lib\\site-packages\\sklearn\\utils\\validation.py:761: DataConversionWarning: A column-vector y was passed when a 1d array was expected. Please change the shape of y to (n_samples, ), for example using ravel().\n",
      "  y = column_or_1d(y, warn=True)\n",
      "C:\\Users\\Nagi\\Anaconda3\\lib\\site-packages\\sklearn\\utils\\validation.py:761: DataConversionWarning: A column-vector y was passed when a 1d array was expected. Please change the shape of y to (n_samples, ), for example using ravel().\n",
      "  y = column_or_1d(y, warn=True)\n",
      "C:\\Users\\Nagi\\Anaconda3\\lib\\site-packages\\sklearn\\utils\\validation.py:761: DataConversionWarning: A column-vector y was passed when a 1d array was expected. Please change the shape of y to (n_samples, ), for example using ravel().\n",
      "  y = column_or_1d(y, warn=True)\n",
      "C:\\Users\\Nagi\\Anaconda3\\lib\\site-packages\\sklearn\\utils\\validation.py:761: DataConversionWarning: A column-vector y was passed when a 1d array was expected. Please change the shape of y to (n_samples, ), for example using ravel().\n",
      "  y = column_or_1d(y, warn=True)\n",
      "C:\\Users\\Nagi\\Anaconda3\\lib\\site-packages\\sklearn\\utils\\validation.py:761: DataConversionWarning: A column-vector y was passed when a 1d array was expected. Please change the shape of y to (n_samples, ), for example using ravel().\n",
      "  y = column_or_1d(y, warn=True)\n",
      "C:\\Users\\Nagi\\Anaconda3\\lib\\site-packages\\sklearn\\utils\\validation.py:761: DataConversionWarning: A column-vector y was passed when a 1d array was expected. Please change the shape of y to (n_samples, ), for example using ravel().\n",
      "  y = column_or_1d(y, warn=True)\n",
      "C:\\Users\\Nagi\\Anaconda3\\lib\\site-packages\\sklearn\\utils\\validation.py:761: DataConversionWarning: A column-vector y was passed when a 1d array was expected. Please change the shape of y to (n_samples, ), for example using ravel().\n",
      "  y = column_or_1d(y, warn=True)\n"
     ]
    },
    {
     "data": {
      "text/plain": [
       "{'Random Forest': [69.25166668994999, 68.8701712237569],\n",
       " 'linear_reg': [28.654683725618824, 29.429564074749837],\n",
       " 'regularization': [28.654413730914346, 29.428710871981956],\n",
       " 'KNN': [18.470162699136353, 27.56994367327733],\n",
       " 'NB_Gaussian': [73.84507197491912, 73.65847716077639],\n",
       " 'NB_BernoulliNB': [56.23478422253376, 56.76963717322677]}"
      ]
     },
     "execution_count": 168,
     "metadata": {},
     "output_type": "execute_result"
    }
   ],
   "source": [
    "# Bernoulli\n",
    "from sklearn.naive_bayes import BernoulliNB\n",
    "\n",
    "BL=BernoulliNB()\n",
    "\n",
    "model_metrics=calc_metrics_and_predict(BL,'NB_BernoulliNB',train_X,test_X,train_Y,test_Y,None,True)\n",
    "model_metrics"
   ]
  },
  {
   "cell_type": "code",
   "execution_count": 154,
   "metadata": {},
   "outputs": [
    {
     "name": "stdout",
     "output_type": "stream",
     "text": [
      "fit data\n"
     ]
    },
    {
     "name": "stderr",
     "output_type": "stream",
     "text": [
      "C:\\Users\\Nagi\\Anaconda3\\lib\\site-packages\\ipykernel_launcher.py:14: DataConversionWarning: A column-vector y was passed when a 1d array was expected. Please change the shape of y to (n_samples,), for example using ravel().\n",
      "  \n"
     ]
    },
    {
     "name": "stdout",
     "output_type": "stream",
     "text": [
      "predict data\n",
      "68.87983540793402\n",
      "Cross-Validation score\n"
     ]
    },
    {
     "name": "stderr",
     "output_type": "stream",
     "text": [
      "C:\\Users\\Nagi\\Anaconda3\\lib\\site-packages\\sklearn\\model_selection\\_validation.py:528: DataConversionWarning: A column-vector y was passed when a 1d array was expected. Please change the shape of y to (n_samples,), for example using ravel().\n",
      "  estimator.fit(X_train, y_train, **fit_params)\n",
      "C:\\Users\\Nagi\\Anaconda3\\lib\\site-packages\\sklearn\\model_selection\\_validation.py:528: DataConversionWarning: A column-vector y was passed when a 1d array was expected. Please change the shape of y to (n_samples,), for example using ravel().\n",
      "  estimator.fit(X_train, y_train, **fit_params)\n",
      "C:\\Users\\Nagi\\Anaconda3\\lib\\site-packages\\sklearn\\model_selection\\_validation.py:528: DataConversionWarning: A column-vector y was passed when a 1d array was expected. Please change the shape of y to (n_samples,), for example using ravel().\n",
      "  estimator.fit(X_train, y_train, **fit_params)\n",
      "C:\\Users\\Nagi\\Anaconda3\\lib\\site-packages\\sklearn\\model_selection\\_validation.py:528: DataConversionWarning: A column-vector y was passed when a 1d array was expected. Please change the shape of y to (n_samples,), for example using ravel().\n",
      "  estimator.fit(X_train, y_train, **fit_params)\n",
      "C:\\Users\\Nagi\\Anaconda3\\lib\\site-packages\\sklearn\\model_selection\\_validation.py:528: DataConversionWarning: A column-vector y was passed when a 1d array was expected. Please change the shape of y to (n_samples,), for example using ravel().\n",
      "  estimator.fit(X_train, y_train, **fit_params)\n",
      "C:\\Users\\Nagi\\Anaconda3\\lib\\site-packages\\sklearn\\model_selection\\_validation.py:528: DataConversionWarning: A column-vector y was passed when a 1d array was expected. Please change the shape of y to (n_samples,), for example using ravel().\n",
      "  estimator.fit(X_train, y_train, **fit_params)\n",
      "C:\\Users\\Nagi\\Anaconda3\\lib\\site-packages\\sklearn\\model_selection\\_validation.py:528: DataConversionWarning: A column-vector y was passed when a 1d array was expected. Please change the shape of y to (n_samples,), for example using ravel().\n",
      "  estimator.fit(X_train, y_train, **fit_params)\n",
      "C:\\Users\\Nagi\\Anaconda3\\lib\\site-packages\\sklearn\\model_selection\\_validation.py:528: DataConversionWarning: A column-vector y was passed when a 1d array was expected. Please change the shape of y to (n_samples,), for example using ravel().\n",
      "  estimator.fit(X_train, y_train, **fit_params)\n",
      "C:\\Users\\Nagi\\Anaconda3\\lib\\site-packages\\sklearn\\model_selection\\_validation.py:528: DataConversionWarning: A column-vector y was passed when a 1d array was expected. Please change the shape of y to (n_samples,), for example using ravel().\n",
      "  estimator.fit(X_train, y_train, **fit_params)\n",
      "C:\\Users\\Nagi\\Anaconda3\\lib\\site-packages\\sklearn\\model_selection\\_validation.py:528: DataConversionWarning: A column-vector y was passed when a 1d array was expected. Please change the shape of y to (n_samples,), for example using ravel().\n",
      "  estimator.fit(X_train, y_train, **fit_params)\n"
     ]
    },
    {
     "data": {
      "text/plain": [
       "{'Random Forest': [79453.2815929695,\n",
       "  47739.4446545581,\n",
       "  69.07397672344582,\n",
       "  194274.7597253114],\n",
       " 'linear_reg': [217666.23918120624,\n",
       "  138260.8393582919,\n",
       "  28.654683725618824,\n",
       "  219792.2607128391],\n",
       " 'regularization': [217665.8677896338,\n",
       "  138261.26193449684,\n",
       "  28.654413730914346,\n",
       "  219786.59257395743],\n",
       " 'Lasso regularization': [217665.82622819446,\n",
       "  138261.0518127243,\n",
       "  69.166224877241,\n",
       "  219787.90364536102],\n",
       " 'KNN': [146254.64335756033,\n",
       "  91950.29788265363,\n",
       "  18.470162699136353,\n",
       "  211408.5247435267],\n",
       " 'NB_Gaussian': [260007.46767327114,\n",
       "  159372.24178729593,\n",
       "  73.84507197491912,\n",
       "  279482.64631801343],\n",
       " 'NB_MultinomialNB': [412345.7088136625,\n",
       "  234107.1409214092,\n",
       "  76.99267939520188,\n",
       "  428575.96791870834],\n",
       " 'NB_BernoulliNB': [285044.512425808,\n",
       "  172109.00429638443,\n",
       "  56.23478422253376,\n",
       "  254223.46035862048],\n",
       " 'Random_forest': [68432.5156401675,\n",
       "  42701.22840724531,\n",
       "  68.87983540793402,\n",
       "  184668.3909954713]}"
      ]
     },
     "execution_count": 154,
     "metadata": {},
     "output_type": "execute_result"
    }
   ],
   "source": [
    "from sklearn.ensemble import RandomForestRegressor\n",
    "\n",
    "rfm=RandomForestRegressor(random_state = 0, criterion='mse',n_jobs = -1, \n",
    "        n_estimators = 100, max_depth = None,min_samples_leaf=1,min_samples_split=2)\n",
    "\n",
    "model_metrics=calc_metrics_and_predict(rfm,'Random_forest',train_X,test_X,train_Y,test_Y,None,True)\n",
    "model_metrics"
   ]
  },
  {
   "cell_type": "code",
   "execution_count": 155,
   "metadata": {},
   "outputs": [
    {
     "name": "stdout",
     "output_type": "stream",
     "text": [
      "fit data\n",
      "predict data\n",
      "68.66248911369242\n",
      "Cross-Validation score\n"
     ]
    },
    {
     "data": {
      "text/plain": [
       "{'Random Forest': [79453.2815929695,\n",
       "  47739.4446545581,\n",
       "  69.07397672344582,\n",
       "  194274.7597253114],\n",
       " 'linear_reg': [217666.23918120624,\n",
       "  138260.8393582919,\n",
       "  28.654683725618824,\n",
       "  219792.2607128391],\n",
       " 'regularization': [217665.8677896338,\n",
       "  138261.26193449684,\n",
       "  28.654413730914346,\n",
       "  219786.59257395743],\n",
       " 'Lasso regularization': [217665.82622819446,\n",
       "  138261.0518127243,\n",
       "  69.166224877241,\n",
       "  219787.90364536102],\n",
       " 'KNN': [146254.64335756033,\n",
       "  91950.29788265363,\n",
       "  18.470162699136353,\n",
       "  211408.5247435267],\n",
       " 'NB_Gaussian': [260007.46767327114,\n",
       "  159372.24178729593,\n",
       "  73.84507197491912,\n",
       "  279482.64631801343],\n",
       " 'NB_MultinomialNB': [412345.7088136625,\n",
       "  234107.1409214092,\n",
       "  76.99267939520188,\n",
       "  428575.96791870834],\n",
       " 'NB_BernoulliNB': [285044.512425808,\n",
       "  172109.00429638443,\n",
       "  56.23478422253376,\n",
       "  254223.46035862048],\n",
       " 'Random_forest': [68432.5156401675,\n",
       "  42701.22840724531,\n",
       "  68.87983540793402,\n",
       "  184668.3909954713],\n",
       " 'Decision_Tree': [154673.7358422324,\n",
       "  93126.98851685447,\n",
       "  68.66248911369242,\n",
       "  236341.66535726836]}"
      ]
     },
     "execution_count": 155,
     "metadata": {},
     "output_type": "execute_result"
    }
   ],
   "source": [
    "from sklearn.tree import DecisionTreeRegressor\n",
    "clf=DecisionTreeRegressor(criterion='mse', max_depth=100, max_features='log2', max_leaf_nodes=None, min_impurity_decrease=0.0, min_impurity_split=None, min_samples_leaf=5, min_samples_split=8, min_weight_fraction_leaf=0.0, presort=False, random_state=None, splitter='best')\n",
    "\n",
    "\n",
    "model_metrics=calc_metrics_and_predict(clf,'Decision_Tree',train_X,test_X,train_Y,test_Y,None,True)\n",
    "model_metrics"
   ]
  },
  {
   "cell_type": "code",
   "execution_count": 156,
   "metadata": {},
   "outputs": [
    {
     "name": "stdout",
     "output_type": "stream",
     "text": [
      "fit data\n",
      "predict data\n",
      "68.65310487867775\n",
      "Cross-Validation score\n"
     ]
    },
    {
     "data": {
      "text/plain": [
       "{'Random Forest': [79453.2815929695,\n",
       "  47739.4446545581,\n",
       "  69.07397672344582,\n",
       "  194274.7597253114],\n",
       " 'linear_reg': [217666.23918120624,\n",
       "  138260.8393582919,\n",
       "  28.654683725618824,\n",
       "  219792.2607128391],\n",
       " 'regularization': [217665.8677896338,\n",
       "  138261.26193449684,\n",
       "  28.654413730914346,\n",
       "  219786.59257395743],\n",
       " 'Lasso regularization': [217665.82622819446,\n",
       "  138261.0518127243,\n",
       "  69.166224877241,\n",
       "  219787.90364536102],\n",
       " 'KNN': [146254.64335756033,\n",
       "  91950.29788265363,\n",
       "  18.470162699136353,\n",
       "  211408.5247435267],\n",
       " 'NB_Gaussian': [260007.46767327114,\n",
       "  159372.24178729593,\n",
       "  73.84507197491912,\n",
       "  279482.64631801343],\n",
       " 'NB_MultinomialNB': [412345.7088136625,\n",
       "  234107.1409214092,\n",
       "  76.99267939520188,\n",
       "  428575.96791870834],\n",
       " 'NB_BernoulliNB': [285044.512425808,\n",
       "  172109.00429638443,\n",
       "  56.23478422253376,\n",
       "  254223.46035862048],\n",
       " 'Random_forest': [68432.5156401675,\n",
       "  42701.22840724531,\n",
       "  68.87983540793402,\n",
       "  184668.3909954713],\n",
       " 'Decision_Tree': [154673.7358422324,\n",
       "  93126.98851685447,\n",
       "  68.66248911369242,\n",
       "  236341.66535726836],\n",
       " 'Adaboost': [152681.20795391776,\n",
       "  92213.45622127602,\n",
       "  68.65310487867775,\n",
       "  228076.0886101326]}"
      ]
     },
     "execution_count": 156,
     "metadata": {},
     "output_type": "execute_result"
    }
   ],
   "source": [
    "# Ada boost classifier\n",
    "from sklearn.ensemble import AdaBoostClassifier,AdaBoostRegressor\n",
    "#dtree = DecisionTreeClassifier(criterion='',max_depth=1)\n",
    "\n",
    "adabst_fit = AdaBoostRegressor(base_estimator= clf,n_estimators=5000,learning_rate=0.05,random_state=42)\n",
    "\n",
    "model_metrics=calc_metrics_and_predict(clf,'Adaboost',train_X,test_X,train_Y,test_Y,None,True)\n",
    "model_metrics"
   ]
  },
  {
   "cell_type": "code",
   "execution_count": 157,
   "metadata": {},
   "outputs": [
    {
     "name": "stdout",
     "output_type": "stream",
     "text": [
      "fit data\n"
     ]
    },
    {
     "name": "stderr",
     "output_type": "stream",
     "text": [
      "C:\\Users\\Nagi\\Anaconda3\\lib\\site-packages\\sklearn\\utils\\validation.py:761: DataConversionWarning: A column-vector y was passed when a 1d array was expected. Please change the shape of y to (n_samples, ), for example using ravel().\n",
      "  y = column_or_1d(y, warn=True)\n"
     ]
    },
    {
     "name": "stdout",
     "output_type": "stream",
     "text": [
      "predict data\n",
      "78.69873949393656\n"
     ]
    },
    {
     "data": {
      "text/plain": [
       "{'Random Forest': [79453.2815929695,\n",
       "  47739.4446545581,\n",
       "  69.07397672344582,\n",
       "  194274.7597253114],\n",
       " 'linear_reg': [217666.23918120624,\n",
       "  138260.8393582919,\n",
       "  28.654683725618824,\n",
       "  219792.2607128391],\n",
       " 'regularization': [217665.8677896338,\n",
       "  138261.26193449684,\n",
       "  28.654413730914346,\n",
       "  219786.59257395743],\n",
       " 'Lasso regularization': [217665.82622819446,\n",
       "  138261.0518127243,\n",
       "  69.166224877241,\n",
       "  219787.90364536102],\n",
       " 'KNN': [146254.64335756033,\n",
       "  91950.29788265363,\n",
       "  18.470162699136353,\n",
       "  211408.5247435267],\n",
       " 'NB_Gaussian': [260007.46767327114,\n",
       "  159372.24178729593,\n",
       "  73.84507197491912,\n",
       "  279482.64631801343],\n",
       " 'NB_MultinomialNB': [412345.7088136625,\n",
       "  234107.1409214092,\n",
       "  76.99267939520188,\n",
       "  428575.96791870834],\n",
       " 'NB_BernoulliNB': [285044.512425808,\n",
       "  172109.00429638443,\n",
       "  56.23478422253376,\n",
       "  254223.46035862048],\n",
       " 'Random_forest': [68432.5156401675,\n",
       "  42701.22840724531,\n",
       "  68.87983540793402,\n",
       "  184668.3909954713],\n",
       " 'Decision_Tree': [154673.7358422324,\n",
       "  93126.98851685447,\n",
       "  68.66248911369242,\n",
       "  236341.66535726836],\n",
       " 'Adaboost': [152681.20795391776,\n",
       "  92213.45622127602,\n",
       "  68.65310487867775,\n",
       "  228076.0886101326],\n",
       " 'Gradient_boosting': [131965.901605554,\n",
       "  80730.78267556254,\n",
       "  78.69873949393656,\n",
       "  None]}"
      ]
     },
     "execution_count": 157,
     "metadata": {},
     "output_type": "execute_result"
    }
   ],
   "source": [
    "# Gradientboost Classifier\n",
    "from sklearn.ensemble import GradientBoostingRegressor\n",
    "\n",
    "gbc_fit = GradientBoostingRegressor(loss='quantile',learning_rate=0.05,n_estimators=200,min_samples_split=8,min_samples_leaf=5,max_depth=100,random_state=42,max_features='log2')\n",
    "\n",
    "#gbc_fit = GradientBoostingRegressor(base_estimator= clf,n_estimators=5000,learning_rate=0.05,random_state=42)\n",
    "\n",
    "    \n",
    "model_metrics=calc_metrics_and_predict(gbc_fit,'Gradient_boosting',train_X,test_X,train_Y,test_Y,None,False)\n",
    "model_metrics"
   ]
  },
  {
   "cell_type": "code",
   "execution_count": 158,
   "metadata": {},
   "outputs": [
    {
     "name": "stdout",
     "output_type": "stream",
     "text": [
      "fit data\n",
      "[13:54:22] WARNING: C:/Jenkins/workspace/xgboost-win64_release_0.90/src/objective/regression_obj.cu:152: reg:linear is now deprecated in favor of reg:squarederror.\n",
      "predict data\n",
      "70.11361424865514\n"
     ]
    },
    {
     "data": {
      "text/plain": [
       "{'Random Forest': [79453.2815929695,\n",
       "  47739.4446545581,\n",
       "  69.07397672344582,\n",
       "  194274.7597253114],\n",
       " 'linear_reg': [217666.23918120624,\n",
       "  138260.8393582919,\n",
       "  28.654683725618824,\n",
       "  219792.2607128391],\n",
       " 'regularization': [217665.8677896338,\n",
       "  138261.26193449684,\n",
       "  28.654413730914346,\n",
       "  219786.59257395743],\n",
       " 'Lasso regularization': [217665.82622819446,\n",
       "  138261.0518127243,\n",
       "  69.166224877241,\n",
       "  219787.90364536102],\n",
       " 'KNN': [146254.64335756033,\n",
       "  91950.29788265363,\n",
       "  18.470162699136353,\n",
       "  211408.5247435267],\n",
       " 'NB_Gaussian': [260007.46767327114,\n",
       "  159372.24178729593,\n",
       "  73.84507197491912,\n",
       "  279482.64631801343],\n",
       " 'NB_MultinomialNB': [412345.7088136625,\n",
       "  234107.1409214092,\n",
       "  76.99267939520188,\n",
       "  428575.96791870834],\n",
       " 'NB_BernoulliNB': [285044.512425808,\n",
       "  172109.00429638443,\n",
       "  56.23478422253376,\n",
       "  254223.46035862048],\n",
       " 'Random_forest': [68432.5156401675,\n",
       "  42701.22840724531,\n",
       "  68.87983540793402,\n",
       "  184668.3909954713],\n",
       " 'Decision_Tree': [154673.7358422324,\n",
       "  93126.98851685447,\n",
       "  68.66248911369242,\n",
       "  236341.66535726836],\n",
       " 'Adaboost': [152681.20795391776,\n",
       "  92213.45622127602,\n",
       "  68.65310487867775,\n",
       "  228076.0886101326],\n",
       " 'Gradient_boosting': [131965.901605554,\n",
       "  80730.78267556254,\n",
       "  78.69873949393656,\n",
       "  None],\n",
       " 'XGBoosting': [17522.148755365466,\n",
       "  8271.637334031495,\n",
       "  70.11361424865514,\n",
       "  None]}"
      ]
     },
     "execution_count": 158,
     "metadata": {},
     "output_type": "execute_result"
    }
   ],
   "source": [
    "# Xgboost Classifier\n",
    "import xgboost as xgb\n",
    "\n",
    "xgb_fit = xgb.XGBRegressor(learning_rate=0.05,n_estimators=100,min_samples_split=8,min_samples_leaf=5,max_depth=100,random_state=42,max_features='log2' )\n",
    "\n",
    "\n",
    "\n",
    "model_metrics=calc_metrics_and_predict(xgb_fit,'XGBoosting',train_X,test_X,train_Y,test_Y,None,False)\n",
    "model_metrics"
   ]
  },
  {
   "cell_type": "code",
   "execution_count": 127,
   "metadata": {},
   "outputs": [
    {
     "name": "stderr",
     "output_type": "stream",
     "text": [
      "C:\\Users\\Nagi\\Anaconda3\\lib\\site-packages\\sklearn\\utils\\validation.py:761: DataConversionWarning: A column-vector y was passed when a 1d array was expected. Please change the shape of y to (n_samples, ), for example using ravel().\n",
      "  y = column_or_1d(y, warn=True)\n"
     ]
    },
    {
     "name": "stdout",
     "output_type": "stream",
     "text": [
      "task:         [regression]\n",
      "metric:       [mean_absolute_error]\n",
      "mode:         [oof_pred_bag]\n",
      "n_models:     [3]\n",
      "\n",
      "model  0:     [LinearRegression]\n",
      "    fold  0:  [137674.89179868]\n",
      "    fold  1:  [138911.29036635]\n",
      "    fold  2:  [140446.90920330]\n",
      "    fold  3:  [138460.38659079]\n",
      "    ----\n",
      "    MEAN:     [138873.36948978] + [1010.49107787]\n",
      "    FULL:     [138873.29027253]\n",
      "\n",
      "model  1:     [KNeighborsRegressor]\n",
      "    fold  0:  [163207.96334479]\n",
      "    fold  1:  [165429.80865503]\n",
      "    fold  2:  [171688.40031729]\n",
      "    fold  3:  [171216.84752336]\n",
      "    ----\n",
      "    MEAN:     [167885.75496012] + [3656.14879440]\n",
      "    FULL:     [167885.44576641]\n",
      "\n",
      "model  2:     [RandomForestRegressor]\n",
      "    fold  0:  [115415.31567753]\n",
      "    fold  1:  [115855.99661039]\n",
      "    fold  2:  [117292.48193519]\n",
      "    fold  3:  [116404.55376543]\n",
      "    ----\n",
      "    MEAN:     [116242.08699714] + [700.41801418]\n",
      "    FULL:     [116242.03234902]\n",
      "\n",
      "[13:23:23] WARNING: C:/Jenkins/workspace/xgboost-win64_release_0.90/src/objective/regression_obj.cu:152: reg:linear is now deprecated in favor of reg:squarederror.\n",
      "Final prediction score: [10201.24770360]\n"
     ]
    }
   ],
   "source": [
    "from vecstack import stacking\n",
    "\n",
    "# Get your data\n",
    "\n",
    "# Initialize 1st level models\n",
    "\n",
    "# Get your stacking features in a single line\n",
    "#S_train, S_test = stacking(models, X_train, y_train, X_test, regression = True, verbose = 2)\n",
    "\n",
    "# Use 2nd level model with stacking features\n",
    "#Complete examples\n",
    "#Regression\n",
    "from sklearn.datasets import load_boston\n",
    "from sklearn.model_selection import train_test_split\n",
    "from sklearn.metrics import mean_absolute_error\n",
    "from sklearn.ensemble import ExtraTreesRegressor\n",
    "from sklearn.ensemble import RandomForestRegressor\n",
    "from xgboost import XGBRegressor\n",
    "from vecstack import stacking\n",
    "\n",
    "\n",
    "# Caution! All models and parameter values are just \n",
    "# demonstrational and shouldn't be considered as recommended.\n",
    "# Initialize 1st level models.\n",
    "models = [\n",
    "    linear_model,\n",
    "    neigh,\n",
    "    rfm,\n",
    "#    xgb_fit\n",
    "    ]\n",
    "    \n",
    "# Compute stacking features\n",
    "S_train, S_test = stacking(models, train_X, train_Y, test_X, \n",
    "    regression = True, metric = mean_absolute_error, n_folds = 4, \n",
    "    shuffle = True, random_state = 0, verbose = 2)\n",
    "\n",
    "# Initialize 2nd level model\n",
    "#model = XGBRegressor(seed = 0, n_jobs = -1, learning_rate = 0.1,     n_estimators = 100)\n",
    "model_stacking= xgb_fit\n",
    "\n",
    "# Fit 2nd level model\n",
    "model_stacking = model_stacking.fit(S_train, train_Y)\n",
    "\n",
    "# Predict\n",
    "y_pred = model_stacking.predict(S_train)\n",
    "\n",
    "# Final prediction score\n",
    "print('Final prediction score: [%.8f]' % mean_absolute_error(train_Y, y_pred))"
   ]
  },
  {
   "cell_type": "code",
   "execution_count": 128,
   "metadata": {},
   "outputs": [
    {
     "name": "stdout",
     "output_type": "stream",
     "text": [
      "fit data\n",
      "[13:24:19] WARNING: C:/Jenkins/workspace/xgboost-win64_release_0.90/src/objective/regression_obj.cu:152: reg:linear is now deprecated in favor of reg:squarederror.\n",
      "predict data\n"
     ]
    },
    {
     "ename": "ValueError",
     "evalue": "Unable to coerce to Series, length must be 1: given 15129",
     "output_type": "error",
     "traceback": [
      "\u001b[1;31m---------------------------------------------------------------------------\u001b[0m",
      "\u001b[1;31mValueError\u001b[0m                                Traceback (most recent call last)",
      "\u001b[1;32m<ipython-input-128-59bbdbe57c00>\u001b[0m in \u001b[0;36m<module>\u001b[1;34m\u001b[0m\n\u001b[1;32m----> 1\u001b[1;33m \u001b[0mmodel_metrics\u001b[0m\u001b[1;33m=\u001b[0m\u001b[0mcalc_metrics_and_predict\u001b[0m\u001b[1;33m(\u001b[0m\u001b[0mmodel_stacking\u001b[0m\u001b[1;33m,\u001b[0m\u001b[1;34m'Stacking'\u001b[0m\u001b[1;33m,\u001b[0m\u001b[0mtrain_X\u001b[0m\u001b[1;33m,\u001b[0m\u001b[0mtest_X\u001b[0m\u001b[1;33m,\u001b[0m\u001b[0mtrain_Y\u001b[0m\u001b[1;33m,\u001b[0m\u001b[0mtest_Y\u001b[0m\u001b[1;33m,\u001b[0m\u001b[1;32mNone\u001b[0m\u001b[1;33m,\u001b[0m\u001b[1;32mFalse\u001b[0m\u001b[1;33m)\u001b[0m\u001b[1;33m\u001b[0m\u001b[1;33m\u001b[0m\u001b[0m\n\u001b[0m\u001b[0;32m      2\u001b[0m \u001b[0mmodel_metrics\u001b[0m\u001b[1;33m\u001b[0m\u001b[1;33m\u001b[0m\u001b[0m\n",
      "\u001b[1;32m<ipython-input-113-370d4c0b3ea5>\u001b[0m in \u001b[0;36mcalc_metrics_and_predict\u001b[1;34m(model, model_label, train_X, test_X, train_Y, test_Y, scaler, cv)\u001b[0m\n\u001b[0;32m     17\u001b[0m     \u001b[0mrmse\u001b[0m\u001b[1;33m=\u001b[0m\u001b[0mnp\u001b[0m\u001b[1;33m.\u001b[0m\u001b[0msqrt\u001b[0m\u001b[1;33m(\u001b[0m\u001b[0mmean_squared_error\u001b[0m\u001b[1;33m(\u001b[0m\u001b[0mtrain_Y\u001b[0m\u001b[1;33m,\u001b[0m \u001b[0myhat_train\u001b[0m\u001b[1;33m)\u001b[0m\u001b[1;33m)\u001b[0m\u001b[1;33m\u001b[0m\u001b[1;33m\u001b[0m\u001b[0m\n\u001b[0;32m     18\u001b[0m     \u001b[0mmae\u001b[0m\u001b[1;33m=\u001b[0m\u001b[0mmean_absolute_error\u001b[0m\u001b[1;33m(\u001b[0m\u001b[0mtrain_Y\u001b[0m\u001b[1;33m,\u001b[0m\u001b[0myhat_train\u001b[0m\u001b[1;33m)\u001b[0m\u001b[1;33m\u001b[0m\u001b[1;33m\u001b[0m\u001b[0m\n\u001b[1;32m---> 19\u001b[1;33m     \u001b[0mmape\u001b[0m\u001b[1;33m=\u001b[0m\u001b[0mnp\u001b[0m\u001b[1;33m.\u001b[0m\u001b[0mmean\u001b[0m\u001b[1;33m(\u001b[0m\u001b[0mnp\u001b[0m\u001b[1;33m.\u001b[0m\u001b[0mabs\u001b[0m\u001b[1;33m(\u001b[0m\u001b[1;33m(\u001b[0m\u001b[0mtrain_Y\u001b[0m \u001b[1;33m-\u001b[0m \u001b[0myhat_train\u001b[0m\u001b[1;33m)\u001b[0m \u001b[1;33m/\u001b[0m \u001b[0mtrain_Y\u001b[0m\u001b[1;33m)\u001b[0m\u001b[1;33m)\u001b[0m \u001b[1;33m*\u001b[0m \u001b[1;36m100\u001b[0m\u001b[1;33m\u001b[0m\u001b[1;33m\u001b[0m\u001b[0m\n\u001b[0m\u001b[0;32m     20\u001b[0m    \u001b[1;31m# mape=mae * 100\u001b[0m\u001b[1;33m\u001b[0m\u001b[1;33m\u001b[0m\u001b[1;33m\u001b[0m\u001b[0m\n\u001b[0;32m     21\u001b[0m     \u001b[1;32mif\u001b[0m \u001b[0mcv\u001b[0m\u001b[1;33m==\u001b[0m\u001b[1;32mTrue\u001b[0m\u001b[1;33m:\u001b[0m\u001b[1;33m\u001b[0m\u001b[1;33m\u001b[0m\u001b[0m\n",
      "\u001b[1;32m~\\Anaconda3\\lib\\site-packages\\pandas\\core\\ops.py\u001b[0m in \u001b[0;36mf\u001b[1;34m(self, other, axis, level, fill_value)\u001b[0m\n\u001b[0;32m   2016\u001b[0m     \u001b[1;32mdef\u001b[0m \u001b[0mf\u001b[0m\u001b[1;33m(\u001b[0m\u001b[0mself\u001b[0m\u001b[1;33m,\u001b[0m \u001b[0mother\u001b[0m\u001b[1;33m,\u001b[0m \u001b[0maxis\u001b[0m\u001b[1;33m=\u001b[0m\u001b[0mdefault_axis\u001b[0m\u001b[1;33m,\u001b[0m \u001b[0mlevel\u001b[0m\u001b[1;33m=\u001b[0m\u001b[1;32mNone\u001b[0m\u001b[1;33m,\u001b[0m \u001b[0mfill_value\u001b[0m\u001b[1;33m=\u001b[0m\u001b[1;32mNone\u001b[0m\u001b[1;33m)\u001b[0m\u001b[1;33m:\u001b[0m\u001b[1;33m\u001b[0m\u001b[1;33m\u001b[0m\u001b[0m\n\u001b[0;32m   2017\u001b[0m \u001b[1;33m\u001b[0m\u001b[0m\n\u001b[1;32m-> 2018\u001b[1;33m         \u001b[0mother\u001b[0m \u001b[1;33m=\u001b[0m \u001b[0m_align_method_FRAME\u001b[0m\u001b[1;33m(\u001b[0m\u001b[0mself\u001b[0m\u001b[1;33m,\u001b[0m \u001b[0mother\u001b[0m\u001b[1;33m,\u001b[0m \u001b[0maxis\u001b[0m\u001b[1;33m)\u001b[0m\u001b[1;33m\u001b[0m\u001b[1;33m\u001b[0m\u001b[0m\n\u001b[0m\u001b[0;32m   2019\u001b[0m \u001b[1;33m\u001b[0m\u001b[0m\n\u001b[0;32m   2020\u001b[0m         \u001b[1;32mif\u001b[0m \u001b[0misinstance\u001b[0m\u001b[1;33m(\u001b[0m\u001b[0mother\u001b[0m\u001b[1;33m,\u001b[0m \u001b[0mABCDataFrame\u001b[0m\u001b[1;33m)\u001b[0m\u001b[1;33m:\u001b[0m\u001b[1;33m\u001b[0m\u001b[1;33m\u001b[0m\u001b[0m\n",
      "\u001b[1;32m~\\Anaconda3\\lib\\site-packages\\pandas\\core\\ops.py\u001b[0m in \u001b[0;36m_align_method_FRAME\u001b[1;34m(left, right, axis)\u001b[0m\n\u001b[0;32m   1952\u001b[0m \u001b[1;33m\u001b[0m\u001b[0m\n\u001b[0;32m   1953\u001b[0m         \u001b[1;32mif\u001b[0m \u001b[0mright\u001b[0m\u001b[1;33m.\u001b[0m\u001b[0mndim\u001b[0m \u001b[1;33m==\u001b[0m \u001b[1;36m1\u001b[0m\u001b[1;33m:\u001b[0m\u001b[1;33m\u001b[0m\u001b[1;33m\u001b[0m\u001b[0m\n\u001b[1;32m-> 1954\u001b[1;33m             \u001b[0mright\u001b[0m \u001b[1;33m=\u001b[0m \u001b[0mto_series\u001b[0m\u001b[1;33m(\u001b[0m\u001b[0mright\u001b[0m\u001b[1;33m)\u001b[0m\u001b[1;33m\u001b[0m\u001b[1;33m\u001b[0m\u001b[0m\n\u001b[0m\u001b[0;32m   1955\u001b[0m \u001b[1;33m\u001b[0m\u001b[0m\n\u001b[0;32m   1956\u001b[0m         \u001b[1;32melif\u001b[0m \u001b[0mright\u001b[0m\u001b[1;33m.\u001b[0m\u001b[0mndim\u001b[0m \u001b[1;33m==\u001b[0m \u001b[1;36m2\u001b[0m\u001b[1;33m:\u001b[0m\u001b[1;33m\u001b[0m\u001b[1;33m\u001b[0m\u001b[0m\n",
      "\u001b[1;32m~\\Anaconda3\\lib\\site-packages\\pandas\\core\\ops.py\u001b[0m in \u001b[0;36mto_series\u001b[1;34m(right)\u001b[0m\n\u001b[0;32m   1945\u001b[0m             \u001b[1;32mif\u001b[0m \u001b[0mlen\u001b[0m\u001b[1;33m(\u001b[0m\u001b[0mleft\u001b[0m\u001b[1;33m.\u001b[0m\u001b[0mcolumns\u001b[0m\u001b[1;33m)\u001b[0m \u001b[1;33m!=\u001b[0m \u001b[0mlen\u001b[0m\u001b[1;33m(\u001b[0m\u001b[0mright\u001b[0m\u001b[1;33m)\u001b[0m\u001b[1;33m:\u001b[0m\u001b[1;33m\u001b[0m\u001b[1;33m\u001b[0m\u001b[0m\n\u001b[0;32m   1946\u001b[0m                 raise ValueError(msg.format(req_len=len(left.columns),\n\u001b[1;32m-> 1947\u001b[1;33m                                             given_len=len(right)))\n\u001b[0m\u001b[0;32m   1948\u001b[0m             \u001b[0mright\u001b[0m \u001b[1;33m=\u001b[0m \u001b[0mleft\u001b[0m\u001b[1;33m.\u001b[0m\u001b[0m_constructor_sliced\u001b[0m\u001b[1;33m(\u001b[0m\u001b[0mright\u001b[0m\u001b[1;33m,\u001b[0m \u001b[0mindex\u001b[0m\u001b[1;33m=\u001b[0m\u001b[0mleft\u001b[0m\u001b[1;33m.\u001b[0m\u001b[0mcolumns\u001b[0m\u001b[1;33m)\u001b[0m\u001b[1;33m\u001b[0m\u001b[1;33m\u001b[0m\u001b[0m\n\u001b[0;32m   1949\u001b[0m         \u001b[1;32mreturn\u001b[0m \u001b[0mright\u001b[0m\u001b[1;33m\u001b[0m\u001b[1;33m\u001b[0m\u001b[0m\n",
      "\u001b[1;31mValueError\u001b[0m: Unable to coerce to Series, length must be 1: given 15129"
     ]
    }
   ],
   "source": [
    "model_metrics=calc_metrics_and_predict(model_stacking,'Stacking',train_X,test_X,train_Y,test_Y,None,False)\n",
    "model_metrics"
   ]
  },
  {
   "cell_type": "code",
   "execution_count": null,
   "metadata": {},
   "outputs": [],
   "source": []
  }
 ],
 "metadata": {
  "kernelspec": {
   "display_name": "Python 3",
   "language": "python",
   "name": "python3"
  },
  "language_info": {
   "codemirror_mode": {
    "name": "ipython",
    "version": 3
   },
   "file_extension": ".py",
   "mimetype": "text/x-python",
   "name": "python",
   "nbconvert_exporter": "python",
   "pygments_lexer": "ipython3",
   "version": "3.7.3"
  }
 },
 "nbformat": 4,
 "nbformat_minor": 2
}
